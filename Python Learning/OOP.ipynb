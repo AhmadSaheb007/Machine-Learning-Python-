{
 "cells": [
  {
   "cell_type": "code",
   "execution_count": 7,
   "id": "acc2708e",
   "metadata": {},
   "outputs": [
    {
     "data": {
      "text/plain": [
       "12"
      ]
     },
     "execution_count": 7,
     "metadata": {},
     "output_type": "execute_result"
    }
   ],
   "source": [
    "class summ:\n",
    "    def doSum(self, a, b):\n",
    "        return a + b\n",
    "\n",
    "obj = summ()\n",
    "obj.doSum(5,7)"
   ]
  },
  {
   "cell_type": "code",
   "execution_count": 15,
   "id": "9395e4c8",
   "metadata": {},
   "outputs": [
    {
     "name": "stdout",
     "output_type": "stream",
     "text": [
      "Mazda Green\n"
     ]
    }
   ],
   "source": [
    "class car:\n",
    "    def features(self, cName, cColor):\n",
    "        self.cName = cName\n",
    "        self.cColor = cColor\n",
    "        \n",
    "    def display(self):\n",
    "        print(self.cName, self.cColor)\n",
    "c1 = car()\n",
    "c1.features('Mazda', 'Green')\n",
    "c1.display()"
   ]
  },
  {
   "cell_type": "code",
   "execution_count": 16,
   "id": "32ca27b6",
   "metadata": {},
   "outputs": [
    {
     "name": "stdout",
     "output_type": "stream",
     "text": [
      "Mazda Green\n"
     ]
    }
   ],
   "source": [
    "class car:\n",
    "    def __init__(self, cName, cColor):\n",
    "        self.cName = cName\n",
    "        self.cColor = cColor\n",
    "        \n",
    "    def display(self):\n",
    "        print(self.cName, self.cColor)\n",
    "c1 = car('Mazda', 'Green')\n",
    "\n",
    "c1.display()"
   ]
  },
  {
   "cell_type": "code",
   "execution_count": 20,
   "id": "86eb9b27",
   "metadata": {},
   "outputs": [
    {
     "name": "stdout",
     "output_type": "stream",
     "text": [
      "this is:  abeer\n"
     ]
    }
   ],
   "source": [
    "class student:\n",
    "    def fun1(self, a):\n",
    "        self.a = a\n",
    "    def message(self):\n",
    "        print('this is: ',self.a)\n",
    "        \n",
    "s1 = student()\n",
    "s1.fun1('abeer')\n",
    "s1.message()"
   ]
  },
  {
   "cell_type": "code",
   "execution_count": null,
   "id": "16aae851",
   "metadata": {},
   "outputs": [],
   "source": []
  }
 ],
 "metadata": {
  "kernelspec": {
   "display_name": "Python 3 (ipykernel)",
   "language": "python",
   "name": "python3"
  },
  "language_info": {
   "codemirror_mode": {
    "name": "ipython",
    "version": 3
   },
   "file_extension": ".py",
   "mimetype": "text/x-python",
   "name": "python",
   "nbconvert_exporter": "python",
   "pygments_lexer": "ipython3",
   "version": "3.11.5"
  }
 },
 "nbformat": 4,
 "nbformat_minor": 5
}
