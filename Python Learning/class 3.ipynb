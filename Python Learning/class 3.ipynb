{
 "cells": [
  {
   "cell_type": "code",
   "execution_count": 17,
   "id": "939d8731",
   "metadata": {},
   "outputs": [
    {
     "name": "stdout",
     "output_type": "stream",
     "text": [
      "{'a': 100, 'b': 200}\n"
     ]
    }
   ],
   "source": [
    "classroom = {\n",
    "    'a':100,\n",
    "    'b':200\n",
    "}\n",
    "print(classroom)"
   ]
  },
  {
   "cell_type": "code",
   "execution_count": 18,
   "id": "8741f8ba",
   "metadata": {},
   "outputs": [
    {
     "data": {
      "text/plain": [
       "dict"
      ]
     },
     "execution_count": 18,
     "metadata": {},
     "output_type": "execute_result"
    }
   ],
   "source": [
    "type(classroom)"
   ]
  },
  {
   "cell_type": "code",
   "execution_count": 19,
   "id": "dcf3318f",
   "metadata": {},
   "outputs": [
    {
     "data": {
      "text/plain": [
       "dict_keys(['a', 'b'])"
      ]
     },
     "execution_count": 19,
     "metadata": {},
     "output_type": "execute_result"
    }
   ],
   "source": [
    "classroom.keys()"
   ]
  },
  {
   "cell_type": "code",
   "execution_count": 20,
   "id": "21528af8",
   "metadata": {},
   "outputs": [
    {
     "data": {
      "text/plain": [
       "dict_values([100, 200])"
      ]
     },
     "execution_count": 20,
     "metadata": {},
     "output_type": "execute_result"
    }
   ],
   "source": [
    "classroom.values()"
   ]
  },
  {
   "cell_type": "code",
   "execution_count": 21,
   "id": "6ec96c4f",
   "metadata": {},
   "outputs": [
    {
     "name": "stdout",
     "output_type": "stream",
     "text": [
      "{'C': 600, 'D': 2500}\n"
     ]
    }
   ],
   "source": [
    "ST = {\n",
    "    'C':600,\n",
    "    'D':2500\n",
    "}\n",
    "print(ST)"
   ]
  },
  {
   "cell_type": "code",
   "execution_count": 22,
   "id": "31d33182",
   "metadata": {},
   "outputs": [],
   "source": [
    "classroom.update(ST)"
   ]
  },
  {
   "cell_type": "code",
   "execution_count": 23,
   "id": "79e05039",
   "metadata": {},
   "outputs": [
    {
     "name": "stdout",
     "output_type": "stream",
     "text": [
      "{'a': 100, 'b': 200, 'C': 600, 'D': 2500}\n"
     ]
    }
   ],
   "source": [
    "print(classroom)"
   ]
  },
  {
   "cell_type": "code",
   "execution_count": 24,
   "id": "f0892992",
   "metadata": {},
   "outputs": [],
   "source": [
    "a = 40\n",
    "b = 6"
   ]
  },
  {
   "cell_type": "code",
   "execution_count": 25,
   "id": "c1ac5fd9",
   "metadata": {},
   "outputs": [
    {
     "name": "stdout",
     "output_type": "stream",
     "text": [
      "false\n"
     ]
    }
   ],
   "source": [
    "if a < b:\n",
    "    print('true')\n",
    "else:\n",
    "    print('false')"
   ]
  },
  {
   "cell_type": "code",
   "execution_count": 26,
   "id": "7273bb86",
   "metadata": {},
   "outputs": [
    {
     "name": "stdout",
     "output_type": "stream",
     "text": [
      "a is big\n"
     ]
    }
   ],
   "source": [
    "if a < b:\n",
    "    print('b is big')\n",
    "elif a > b:\n",
    "    print('a is big')\n",
    "else:\n",
    "    print('a == b')"
   ]
  },
  {
   "cell_type": "code",
   "execution_count": 33,
   "id": "9b5f334b",
   "metadata": {},
   "outputs": [
    {
     "name": "stdout",
     "output_type": "stream",
     "text": [
      "no entry\n"
     ]
    }
   ],
   "source": [
    "age = int(input('Age = '))\n",
    "covid = 1\n",
    "\n",
    "if age >= 21 and covid == 2:\n",
    "    print('resturent A and B is ok')\n",
    "elif age >= 21 and covid == 1:\n",
    "    print('resturent B is ok')\n",
    "else:\n",
    "    print(\"no entry\")"
   ]
  },
  {
   "cell_type": "markdown",
   "id": "9d41bc5c",
   "metadata": {},
   "source": []
  },
  {
   "cell_type": "code",
   "execution_count": null,
   "id": "0f750e98",
   "metadata": {},
   "outputs": [],
   "source": []
  },
  {
   "cell_type": "code",
   "execution_count": null,
   "id": "3bf4552d",
   "metadata": {},
   "outputs": [],
   "source": []
  }
 ],
 "metadata": {
  "kernelspec": {
   "display_name": "Python 3 (ipykernel)",
   "language": "python",
   "name": "python3"
  },
  "language_info": {
   "codemirror_mode": {
    "name": "ipython",
    "version": 3
   },
   "file_extension": ".py",
   "mimetype": "text/x-python",
   "name": "python",
   "nbconvert_exporter": "python",
   "pygments_lexer": "ipython3",
   "version": "3.10.7"
  }
 },
 "nbformat": 4,
 "nbformat_minor": 5
}
