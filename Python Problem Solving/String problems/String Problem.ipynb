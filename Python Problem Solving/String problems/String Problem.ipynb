{
 "cells": [
  {
   "cell_type": "markdown",
   "id": "14713e0b",
   "metadata": {},
   "source": [
    "# p1"
   ]
  },
  {
   "cell_type": "code",
   "execution_count": 9,
   "id": "8ef51483",
   "metadata": {},
   "outputs": [
    {
     "name": "stdout",
     "output_type": "stream",
     "text": [
      "5\n",
      "7\n"
     ]
    }
   ],
   "source": [
    "def findStringLen(st):\n",
    "    index = 0;\n",
    "    for char in st:\n",
    "        index += 1\n",
    "    return index\n",
    "\n",
    "\n",
    "if __name__ == '__main__':\n",
    "    print(findStringLen(\"abeer\"))\n",
    "    print(findStringLen('PyCharm'))\n"
   ]
  },
  {
   "cell_type": "markdown",
   "id": "443eceb8",
   "metadata": {},
   "source": [
    "# p4"
   ]
  },
  {
   "cell_type": "code",
   "execution_count": 11,
   "id": "6a79ad13",
   "metadata": {},
   "outputs": [
    {
     "name": "stdout",
     "output_type": "stream",
     "text": [
      "eb$$r\n"
     ]
    }
   ],
   "source": [
    "def changeFirstOccrance(st):\n",
    "    ch = st[0]\n",
    "    st = st.replace(ch, '$')\n",
    "    st = ch + st[1:]\n",
    "    return st\n",
    "\n",
    "if __name__ == '__main__':\n",
    "    print(changeFirstOccrance(\"ebeer\"))\n",
    "\n",
    "\n"
   ]
  },
  {
   "cell_type": "markdown",
   "id": "ae4e583b",
   "metadata": {},
   "source": [
    "# p5"
   ]
  },
  {
   "cell_type": "code",
   "execution_count": 32,
   "id": "30558c5d",
   "metadata": {},
   "outputs": [
    {
     "name": "stdout",
     "output_type": "stream",
     "text": [
      "xyc abz\n"
     ]
    }
   ],
   "source": [
    "def swapAndAddstr(st1, st2):\n",
    "    nS1 = st1[:2] + st2[2:]\n",
    "    nS2 = st2[:2] + st1[2:]\n",
    "\n",
    "    Fst = nS2 + \" \" + nS1\n",
    "\n",
    "    return Fst\n",
    "\n",
    "if __name__ == '__main__':\n",
    "    print(swapAndAddstr(\"abc\", \"xyz\"))"
   ]
  },
  {
   "cell_type": "markdown",
   "id": "5658701b",
   "metadata": {},
   "source": [
    "# p6"
   ]
  },
  {
   "cell_type": "code",
   "execution_count": 11,
   "id": "ff73d83a",
   "metadata": {},
   "outputs": [
    {
     "name": "stdout",
     "output_type": "stream",
     "text": [
      "Appleing\n",
      "Goingly\n"
     ]
    }
   ],
   "source": [
    "def addIngLy(st):\n",
    "    if st[-3:] == \"ing\":\n",
    "        st = st + 'ly'\n",
    "    else:\n",
    "        st = st + \"ing\"\n",
    "    return st\n",
    "    \n",
    "if __name__ == '__main__':\n",
    "    print(addIngLy(\"Apple\"))\n",
    "    print(addIngLy(\"Going\"))"
   ]
  },
  {
   "cell_type": "markdown",
   "id": "4ae10f5c",
   "metadata": {},
   "source": [
    "# p07"
   ]
  },
  {
   "cell_type": "code",
   "execution_count": 2,
   "id": "372c9643",
   "metadata": {},
   "outputs": [
    {
     "name": "stdout",
     "output_type": "stream",
     "text": [
      "The song is good\n",
      "Goinging\n"
     ]
    }
   ],
   "source": [
    "def replacePoor(st):\n",
    "    if st[-4:] == \"poor\":\n",
    "        return st.replace(\"poor\", \"good\")\n",
    "    else:\n",
    "        st = st + \"ing\"\n",
    "    return st\n",
    "    \n",
    "if __name__ == '__main__':\n",
    "    print(replacePoor(\"The song is poor\"))"
   ]
  },
  {
   "cell_type": "markdown",
   "id": "eb4dd79e",
   "metadata": {},
   "source": [
    "# p08"
   ]
  },
  {
   "cell_type": "code",
   "execution_count": 144,
   "id": "8bd3b40e",
   "metadata": {},
   "outputs": [
    {
     "name": "stdout",
     "output_type": "stream",
     "text": [
      "('shadman', 7)\n"
     ]
    }
   ],
   "source": [
    "def countWordLength(st):\n",
    "    ls1 = []\n",
    "    for i in range(0, len(st)):\n",
    "        ls1.append(len(st[i]))\n",
    "    return st[(ls1.index(max(ls1)))], max(ls1)\n",
    "    \n",
    "\n",
    "if __name__ == '__main__':\n",
    "    print(countWordLength([\"abeer\", \"shadman\", 'ahmad']))"
   ]
  },
  {
   "cell_type": "markdown",
   "id": "49db6731",
   "metadata": {},
   "source": [
    "# p09"
   ]
  },
  {
   "cell_type": "code",
   "execution_count": 13,
   "id": "5f16f392",
   "metadata": {},
   "outputs": [
    {
     "name": "stdout",
     "output_type": "stream",
     "text": [
      "Expess\n"
     ]
    }
   ],
   "source": [
    "def replaceNthChar(st, n):\n",
    "    for i in range(len(st)):\n",
    "        if i == n - 1:\n",
    "            st = st.replace(st[i], '')\n",
    "    return st\n",
    "\n",
    "            \n",
    "\n",
    "if __name__ == '__main__':\n",
    "    print(replaceNthChar(\"Express\", 4))"
   ]
  },
  {
   "cell_type": "markdown",
   "id": "83ba8bd2",
   "metadata": {},
   "source": [
    "# p10"
   ]
  },
  {
   "cell_type": "code",
   "execution_count": 39,
   "id": "dc059034",
   "metadata": {},
   "outputs": [
    {
     "name": "stdout",
     "output_type": "stream",
     "text": [
      "nythoP\n"
     ]
    }
   ],
   "source": [
    "def exchangeChar(st):\n",
    "    ch = st[0]\n",
    "\n",
    "    return st[-1] + st[1:-1] + st[0]\n",
    "\n",
    "if __name__ == '__main__':\n",
    "    print(exchangeChar(\"Python\"))"
   ]
  },
  {
   "cell_type": "markdown",
   "id": "93496f9c",
   "metadata": {},
   "source": [
    "# p11"
   ]
  },
  {
   "cell_type": "code",
   "execution_count": 63,
   "id": "c5e5cb24",
   "metadata": {},
   "outputs": [
    {
     "name": "stdout",
     "output_type": "stream",
     "text": [
      "pto\n"
     ]
    }
   ],
   "source": [
    "def removeOddIndex(st):\n",
    "    stF = \"\"\n",
    "    for i in range(0 ,len(st) - 1):\n",
    "        if (i % 2 == 0):\n",
    "            stF = stF + st[i]\n",
    "    return stF\n",
    "\n",
    "if __name__ == '__main__':\n",
    "    print(removeOddIndex(\"python\"))"
   ]
  },
  {
   "cell_type": "markdown",
   "id": "52078c71",
   "metadata": {},
   "source": [
    "# p12"
   ]
  },
  {
   "cell_type": "code",
   "execution_count": 67,
   "id": "015295c8",
   "metadata": {},
   "outputs": [
    {
     "name": "stdout",
     "output_type": "stream",
     "text": [
      "{'python': 1, 'is': 1, 'the': 2, 'best': 1, 'of': 1, 'programs': 1}\n"
     ]
    }
   ],
   "source": [
    "def countOccurence(st):\n",
    "    occ = {}\n",
    "    wordS = st.split()\n",
    "    for word in wordS:\n",
    "        if word in occ:\n",
    "            occ[word] += 1\n",
    "        else:\n",
    "            occ[word] = 1\n",
    "    return occ\n",
    "\n",
    "if __name__ == '__main__':\n",
    "    print(countOccurence(\"python is the best of the programs\"))"
   ]
  },
  {
   "cell_type": "markdown",
   "id": "880ab5b1",
   "metadata": {},
   "source": [
    "# p13"
   ]
  },
  {
   "cell_type": "code",
   "execution_count": 107,
   "id": "d5e9c6e5",
   "metadata": {},
   "outputs": [
    {
     "name": "stdout",
     "output_type": "stream",
     "text": [
      "('PYTHON', 'python')\n"
     ]
    }
   ],
   "source": [
    "def returnUpperLower(st):\n",
    "    st1 = st.upper()\n",
    "    st2 = st.lower()\n",
    "    return st1, st2\n",
    "\n",
    "if __name__ == '__main__':\n",
    "    print(returnUpperLower(\"pytHon\"))"
   ]
  },
  {
   "cell_type": "markdown",
   "id": "b22c16d4",
   "metadata": {},
   "source": [
    "# p14"
   ]
  },
  {
   "cell_type": "code",
   "execution_count": 71,
   "id": "21e122c9",
   "metadata": {},
   "outputs": [
    {
     "name": "stdout",
     "output_type": "stream",
     "text": [
      "[' black', ' green', ' red', ' white', 'red']\n"
     ]
    }
   ],
   "source": [
    "def storeUnique(list):\n",
    "    unique = []\n",
    "    unique = set(list)\n",
    "    return sorted(unique)\n",
    "\n",
    "if __name__ == '__main__':\n",
    "    items = input()\n",
    "    ls = []\n",
    "    ls = items.split(',')\n",
    "    print(storeUnique(ls))"
   ]
  },
  {
   "cell_type": "markdown",
   "id": "b081929f",
   "metadata": {},
   "source": [
    "# p15"
   ]
  },
  {
   "cell_type": "code",
   "execution_count": 72,
   "id": "7bd38eda",
   "metadata": {},
   "outputs": [
    {
     "name": "stdout",
     "output_type": "stream",
     "text": [
      "<i>abeer</i>\n"
     ]
    }
   ],
   "source": [
    "def addTeg(tag, st):\n",
    "    return \"<\" + tag + \">\" + st + \"</\" + tag + \">\"\n",
    "\n",
    "if __name__ == '__main__':\n",
    "    print(addTeg(\"i\", \"abeer\"))"
   ]
  },
  {
   "cell_type": "markdown",
   "id": "5744f86c",
   "metadata": {},
   "source": [
    "# p16"
   ]
  },
  {
   "cell_type": "code",
   "execution_count": 85,
   "id": "e7e10562",
   "metadata": {},
   "outputs": [
    {
     "name": "stdout",
     "output_type": "stream",
     "text": [
      "{{World}}\n",
      "<<Abeer>>\n"
     ]
    }
   ],
   "source": [
    "def stringIntoString(st1, st2):\n",
    "    ln = len(st1)/2;\n",
    "    return st1[:2] + st2 + st1[2:]\n",
    "\n",
    "if __name__ == '__main__':\n",
    "    print(stringIntoString('{{}}', \"World\"))\n",
    "    print(stringIntoString('<<>>', \"Abeer\"))"
   ]
  },
  {
   "cell_type": "markdown",
   "id": "bd689490",
   "metadata": {},
   "source": [
    "# p17"
   ]
  },
  {
   "cell_type": "code",
   "execution_count": 88,
   "id": "a0de716a",
   "metadata": {},
   "outputs": [
    {
     "name": "stdout",
     "output_type": "stream",
     "text": [
      "lolololo\n",
      "onononon\n"
     ]
    }
   ],
   "source": [
    "def copies4(st):\n",
    "    return (st[len(st)-2] + st[len(st) - 1]) * 4\n",
    "\n",
    "if __name__ == '__main__':\n",
    "    print(copies4(\"Hello\"))\n",
    "    print(copies4(\"python\"))"
   ]
  },
  {
   "cell_type": "markdown",
   "id": "50a042a5",
   "metadata": {},
   "source": [
    "# p18"
   ]
  },
  {
   "cell_type": "code",
   "execution_count": 90,
   "id": "98d0a2e6",
   "metadata": {},
   "outputs": [
    {
     "name": "stdout",
     "output_type": "stream",
     "text": [
      "pyt\n",
      "eye\n"
     ]
    }
   ],
   "source": [
    "def get1st3char(st):\n",
    "    if len(st) > 3:\n",
    "        return st[:3]\n",
    "    return st\n",
    "\n",
    "if __name__ == '__main__':\n",
    "    print(get1st3char(\"python\"))\n",
    "    print(get1st3char(\"eye\"))"
   ]
  },
  {
   "cell_type": "markdown",
   "id": "7cb0b619",
   "metadata": {},
   "source": [
    "# p20"
   ]
  },
  {
   "cell_type": "code",
   "execution_count": 93,
   "id": "4ca23e5e",
   "metadata": {},
   "outputs": [
    {
     "name": "stdout",
     "output_type": "stream",
     "text": [
      "oleH\n"
     ]
    }
   ],
   "source": [
    "def reverseString(st):\n",
    "    if len(st) % 4 == 0:\n",
    "        return st[::-1]\n",
    "\n",
    "if __name__ == '__main__':\n",
    "    print(reverseString(\"Helo\"))"
   ]
  },
  {
   "cell_type": "markdown",
   "id": "cdc5b847",
   "metadata": {},
   "source": [
    "# p21"
   ]
  },
  {
   "cell_type": "code",
   "execution_count": 97,
   "id": "01e01506",
   "metadata": {},
   "outputs": [
    {
     "name": "stdout",
     "output_type": "stream",
     "text": [
      "of all fruits      banana is my favorite\n"
     ]
    }
   ],
   "source": [
    "def makeUpperCase(st):\n",
    "    count = 0\n",
    "    for i in range(0, 4):\n",
    "        if st[i] == st[i].upper():\n",
    "            count += 1\n",
    "        if count == 2:\n",
    "            return st.upper()\n",
    "\n",
    "if __name__ == '__main__':\n",
    "    print(makeUpperCase(\"hElLo\"))"
   ]
  },
  {
   "cell_type": "markdown",
   "id": "f143a366",
   "metadata": {},
   "source": [
    "# p23"
   ]
  },
  {
   "cell_type": "code",
   "execution_count": 100,
   "id": "05b02778",
   "metadata": {},
   "outputs": [
    {
     "name": "stdout",
     "output_type": "stream",
     "text": [
      "Hello\n",
      "World\n"
     ]
    }
   ],
   "source": [
    "def removeNewline(st):\n",
    "    return st.rstrip('')\n",
    "\n",
    "if __name__ == '__main__':\n",
    "    print(removeNewline(\"Hello\\nWorld\"))"
   ]
  },
  {
   "cell_type": "markdown",
   "id": "69a58504",
   "metadata": {},
   "source": [
    "# p24"
   ]
  },
  {
   "cell_type": "code",
   "execution_count": 105,
   "id": "4364716a",
   "metadata": {},
   "outputs": [
    {
     "name": "stdout",
     "output_type": "stream",
     "text": [
      "True\n"
     ]
    }
   ],
   "source": [
    "def startSpecificChar(st, sts):\n",
    "    flag = True\n",
    "    for i in range(0, len(sts)):\n",
    "        if st[i] == sts[i]:\n",
    "            flag = True\n",
    "        else:\n",
    "            return False\n",
    "    return flag\n",
    "\n",
    "if __name__ == '__main__':\n",
    "    print(startSpecificChar(\"Hello\", \"He\"))"
   ]
  },
  {
   "cell_type": "markdown",
   "id": "27d14ca7",
   "metadata": {},
   "source": [
    "# p25"
   ]
  },
  {
   "cell_type": "code",
   "execution_count": 116,
   "id": "140fe7be",
   "metadata": {},
   "outputs": [
    {
     "name": "stdout",
     "output_type": "stream",
     "text": [
      "def\n"
     ]
    }
   ],
   "source": [
    "def caesarEncryption(st):\n",
    "    for i in range(0, len(st)):\n",
    "        st = st.replace(st[i], chr(ord(st[i]) + 3))\n",
    "    return st\n",
    "\n",
    "if __name__ == '__main__':\n",
    "    print(caesarEncryption(\"abc\"))\n"
   ]
  },
  {
   "cell_type": "markdown",
   "id": "47c4f94b",
   "metadata": {},
   "source": [
    "# p26"
   ]
  },
  {
   "cell_type": "code",
   "execution_count": null,
   "id": "d2075251",
   "metadata": {},
   "outputs": [],
   "source": []
  },
  {
   "cell_type": "markdown",
   "id": "6b25929e",
   "metadata": {},
   "source": [
    "# p27"
   ]
  },
  {
   "cell_type": "code",
   "execution_count": null,
   "id": "a98bb2af",
   "metadata": {},
   "outputs": [],
   "source": []
  },
  {
   "cell_type": "markdown",
   "id": "64a134af",
   "metadata": {},
   "source": [
    "# p28"
   ]
  },
  {
   "cell_type": "code",
   "execution_count": 150,
   "id": "d6fb999f",
   "metadata": {},
   "outputs": [
    {
     "name": "stdout",
     "output_type": "stream",
     "text": [
      ">    Python is a widely used high-level, general-purpose, interpreted,\n",
      ">    dynamic programming language. Its design philosophy emphasizes\n",
      ">    code readability, and its syntax allows programmers to express\n",
      ">    concepts in fewer lines of code than possible in languages such\n",
      ">    as C++ or Java.\n"
     ]
    }
   ],
   "source": [
    "def addPrefix(st):\n",
    "    st = st.strip()\n",
    "    return \">    \" + st.replace(\"\\n\", \"\\n>\")\n",
    "\n",
    "if __name__ == '__main__':\n",
    "    sample_text = '''\n",
    "    Python is a widely used high-level, general-purpose, interpreted,\n",
    "    dynamic programming language. Its design philosophy emphasizes\n",
    "    code readability, and its syntax allows programmers to express\n",
    "    concepts in fewer lines of code than possible in languages such\n",
    "    as C++ or Java.\n",
    "    '''\n",
    "    print(addPrefix(sample_text))"
   ]
  },
  {
   "cell_type": "code",
   "execution_count": null,
   "id": "11f837f0",
   "metadata": {},
   "outputs": [],
   "source": []
  }
 ],
 "metadata": {
  "kernelspec": {
   "display_name": "Python 3 (ipykernel)",
   "language": "python",
   "name": "python3"
  },
  "language_info": {
   "codemirror_mode": {
    "name": "ipython",
    "version": 3
   },
   "file_extension": ".py",
   "mimetype": "text/x-python",
   "name": "python",
   "nbconvert_exporter": "python",
   "pygments_lexer": "ipython3",
   "version": "3.10.7"
  }
 },
 "nbformat": 4,
 "nbformat_minor": 5
}
