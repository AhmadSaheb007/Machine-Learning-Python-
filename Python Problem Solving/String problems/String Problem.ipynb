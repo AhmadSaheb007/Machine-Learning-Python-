{
 "cells": [
  {
   "cell_type": "markdown",
   "id": "14713e0b",
   "metadata": {},
   "source": [
    "# prob 1"
   ]
  },
  {
   "cell_type": "code",
   "execution_count": 9,
   "id": "8ef51483",
   "metadata": {},
   "outputs": [
    {
     "name": "stdout",
     "output_type": "stream",
     "text": [
      "5\n",
      "7\n"
     ]
    }
   ],
   "source": [
    "def findStringLen(st):\n",
    "    index = 0;\n",
    "    for char in st:\n",
    "        index += 1\n",
    "    return index\n",
    "\n",
    "\n",
    "if __name__ == '__main__':\n",
    "    print(findStringLen(\"abeer\"))\n",
    "    print(findStringLen('PyCharm'))\n"
   ]
  },
  {
   "cell_type": "code",
   "execution_count": null,
   "id": "6a79ad13",
   "metadata": {},
   "outputs": [],
   "source": []
  },
  {
   "cell_type": "code",
   "execution_count": null,
   "id": "30558c5d",
   "metadata": {},
   "outputs": [],
   "source": []
  }
 ],
 "metadata": {
  "kernelspec": {
   "display_name": "Python 3 (ipykernel)",
   "language": "python",
   "name": "python3"
  },
  "language_info": {
   "codemirror_mode": {
    "name": "ipython",
    "version": 3
   },
   "file_extension": ".py",
   "mimetype": "text/x-python",
   "name": "python",
   "nbconvert_exporter": "python",
   "pygments_lexer": "ipython3",
   "version": "3.11.5"
  }
 },
 "nbformat": 4,
 "nbformat_minor": 5
}
