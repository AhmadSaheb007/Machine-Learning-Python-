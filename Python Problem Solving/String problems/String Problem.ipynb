{
 "cells": [
  {
   "cell_type": "markdown",
   "id": "14713e0b",
   "metadata": {},
   "source": [
    "# p1"
   ]
  },
  {
   "cell_type": "code",
   "execution_count": 9,
   "id": "8ef51483",
   "metadata": {},
   "outputs": [
    {
     "name": "stdout",
     "output_type": "stream",
     "text": [
      "5\n",
      "7\n"
     ]
    }
   ],
   "source": [
    "def findStringLen(st):\n",
    "    index = 0;\n",
    "    for char in st:\n",
    "        index += 1\n",
    "    return index\n",
    "\n",
    "\n",
    "if __name__ == '__main__':\n",
    "    print(findStringLen(\"abeer\"))\n",
    "    print(findStringLen('PyCharm'))\n"
   ]
  },
  {
   "cell_type": "markdown",
   "id": "443eceb8",
   "metadata": {},
   "source": [
    "# p4"
   ]
  },
  {
   "cell_type": "code",
   "execution_count": 11,
   "id": "6a79ad13",
   "metadata": {},
   "outputs": [
    {
     "name": "stdout",
     "output_type": "stream",
     "text": [
      "eb$$r\n"
     ]
    }
   ],
   "source": [
    "def changeFirstOccrance(st):\n",
    "    ch = st[0]\n",
    "    st = st.replace(ch, '$')\n",
    "    st = ch + st[1:]\n",
    "    return st\n",
    "\n",
    "if __name__ == '__main__':\n",
    "    print(changeFirstOccrance(\"ebeer\"))\n",
    "\n",
    "\n"
   ]
  },
  {
   "cell_type": "markdown",
   "id": "ae4e583b",
   "metadata": {},
   "source": [
    "# p5"
   ]
  },
  {
   "cell_type": "code",
   "execution_count": 32,
   "id": "30558c5d",
   "metadata": {},
   "outputs": [
    {
     "name": "stdout",
     "output_type": "stream",
     "text": [
      "xyc abz\n"
     ]
    }
   ],
   "source": [
    "def swapAndAddstr(st1, st2):\n",
    "    nS1 = st1[:2] + st2[2:]\n",
    "    nS2 = st2[:2] + st1[2:]\n",
    "\n",
    "    Fst = nS2 + \" \" + nS1\n",
    "\n",
    "    return Fst\n",
    "\n",
    "if __name__ == '__main__':\n",
    "    print(swapAndAddstr(\"abc\", \"xyz\"))"
   ]
  },
  {
   "cell_type": "markdown",
   "id": "5658701b",
   "metadata": {},
   "source": [
    "# p6"
   ]
  },
  {
   "cell_type": "code",
   "execution_count": 11,
   "id": "ff73d83a",
   "metadata": {},
   "outputs": [
    {
     "name": "stdout",
     "output_type": "stream",
     "text": [
      "Appleing\n",
      "Goingly\n"
     ]
    }
   ],
   "source": [
    "def addIngLy(st):\n",
    "    if st[-3:] == \"ing\":\n",
    "        st = st + 'ly'\n",
    "    else:\n",
    "        st = st + \"ing\"\n",
    "    return st\n",
    "    \n",
    "if __name__ == '__main__':\n",
    "    print(addIngLy(\"Apple\"))\n",
    "    print(addIngLy(\"Going\"))"
   ]
  },
  {
   "cell_type": "code",
   "execution_count": null,
   "id": "372c9643",
   "metadata": {},
   "outputs": [],
   "source": []
  }
 ],
 "metadata": {
  "kernelspec": {
   "display_name": "Python 3 (ipykernel)",
   "language": "python",
   "name": "python3"
  },
  "language_info": {
   "codemirror_mode": {
    "name": "ipython",
    "version": 3
   },
   "file_extension": ".py",
   "mimetype": "text/x-python",
   "name": "python",
   "nbconvert_exporter": "python",
   "pygments_lexer": "ipython3",
   "version": "3.10.7"
  }
 },
 "nbformat": 4,
 "nbformat_minor": 5
}
