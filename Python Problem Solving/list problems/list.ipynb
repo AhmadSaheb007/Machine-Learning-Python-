{
 "cells": [
  {
   "cell_type": "markdown",
   "id": "64c8a183",
   "metadata": {},
   "source": [
    "# p1"
   ]
  },
  {
   "cell_type": "code",
   "execution_count": 2,
   "id": "ba124d66",
   "metadata": {},
   "outputs": [
    {
     "name": "stdout",
     "output_type": "stream",
     "text": [
      "15\n"
     ]
    }
   ],
   "source": [
    "def sumAll(ls):\n",
    "    summ = 0\n",
    "    for n in ls:\n",
    "        summ = summ + n;\n",
    "\n",
    "    return summ\n",
    "\n",
    "\n",
    "if __name__ == '__main__':\n",
    "\n",
    "    print(sumAll([1, 3, 5, 6]))"
   ]
  },
  {
   "cell_type": "markdown",
   "id": "1ec43e06",
   "metadata": {},
   "source": [
    "# p2"
   ]
  },
  {
   "cell_type": "code",
   "execution_count": 3,
   "id": "120fdd58",
   "metadata": {},
   "outputs": [
    {
     "name": "stdout",
     "output_type": "stream",
     "text": [
      "30\n"
     ]
    }
   ],
   "source": [
    "def mulAll(ls):\n",
    "    mul = 1\n",
    "    for n in ls:\n",
    "        mul = mul * n;\n",
    "\n",
    "    return mul\n",
    "\n",
    "\n",
    "if __name__ == '__main__':\n",
    "    print(mulAll([1, 3, 5, 2]))"
   ]
  },
  {
   "cell_type": "markdown",
   "id": "8bc1a9f9",
   "metadata": {},
   "source": [
    "# p3"
   ]
  },
  {
   "cell_type": "code",
   "execution_count": 4,
   "id": "cf7fecd1",
   "metadata": {},
   "outputs": [
    {
     "name": "stdout",
     "output_type": "stream",
     "text": [
      "5\n",
      "3\n",
      "-1\n",
      "0\n"
     ]
    }
   ],
   "source": [
    "def findLargest(ls):\n",
    "    lar = -100000000\n",
    "    for n in ls:\n",
    "        if n >= lar:\n",
    "            lar = n\n",
    "    return lar\n",
    "\n",
    "\n",
    "if __name__ == '__main__':\n",
    "    print(findLargest([1, 3, 5, 2]))\n",
    "    print(findLargest([3, 3, 3, 3]))\n",
    "    print(findLargest([-1, -3, -5, -2]))\n",
    "    print(findLargest([0, 0, 0, 0]))"
   ]
  },
  {
   "cell_type": "markdown",
   "id": "3c88862b",
   "metadata": {},
   "source": [
    "# p4"
   ]
  },
  {
   "cell_type": "code",
   "execution_count": 5,
   "id": "5efd89b1",
   "metadata": {},
   "outputs": [
    {
     "name": "stdout",
     "output_type": "stream",
     "text": [
      "1\n",
      "3\n",
      "-5\n",
      "0\n"
     ]
    }
   ],
   "source": [
    "def findSmallest(ls):\n",
    "    sml = 100000000\n",
    "    for n in ls:\n",
    "        if n <= sml:\n",
    "            sml = n\n",
    "    return sml\n",
    "\n",
    "\n",
    "if __name__ == '__main__':\n",
    "    print(findSmallest([1, 3, 5, 2]))\n",
    "    print(findSmallest([3, 3, 3, 3]))\n",
    "    print(findSmallest([-1, -3, -5, -2]))\n",
    "    print(findSmallest([0, 0, 0, 0]))"
   ]
  },
  {
   "cell_type": "markdown",
   "id": "8229aae2",
   "metadata": {},
   "source": [
    "# p5"
   ]
  },
  {
   "cell_type": "code",
   "execution_count": null,
   "id": "aa868b5f",
   "metadata": {},
   "outputs": [],
   "source": []
  },
  {
   "cell_type": "markdown",
   "id": "b55bdc22",
   "metadata": {},
   "source": [
    "# p6"
   ]
  },
  {
   "cell_type": "code",
   "execution_count": null,
   "id": "90ec9f2f",
   "metadata": {},
   "outputs": [],
   "source": []
  },
  {
   "cell_type": "markdown",
   "id": "d68e9810",
   "metadata": {},
   "source": [
    "# p7"
   ]
  },
  {
   "cell_type": "code",
   "execution_count": null,
   "id": "3cb46c0f",
   "metadata": {},
   "outputs": [],
   "source": []
  },
  {
   "cell_type": "markdown",
   "id": "46b70455",
   "metadata": {},
   "source": [
    "# p8"
   ]
  },
  {
   "cell_type": "code",
   "execution_count": 6,
   "id": "fc84daa9",
   "metadata": {},
   "outputs": [
    {
     "name": "stdout",
     "output_type": "stream",
     "text": [
      "Not Empty\n",
      "None\n",
      "Empty\n",
      "None\n"
     ]
    }
   ],
   "source": [
    "def isEmpty(ls):\n",
    "\n",
    "    if len(ls) == 0:\n",
    "        print(\"Empty\")\n",
    "    else:\n",
    "        print(\"Not Empty\")\n",
    "\n",
    "\n",
    "if __name__ == '__main__':\n",
    "    print(isEmpty([1, 3, 2, 2, 5, 6, 9, 7]))\n",
    "    print(isEmpty([]))"
   ]
  },
  {
   "cell_type": "markdown",
   "id": "f38caafc",
   "metadata": {},
   "source": [
    "# p9"
   ]
  },
  {
   "cell_type": "code",
   "execution_count": 7,
   "id": "106a837b",
   "metadata": {},
   "outputs": [
    {
     "name": "stdout",
     "output_type": "stream",
     "text": [
      "[1, 3, 2, 2, 5, 6, 9, 7]\n",
      "['abeer', 'CIT', 1, 4, '44']\n"
     ]
    }
   ],
   "source": [
    "def cloneList(ls):\n",
    "    nLs = list(ls)\n",
    "    return nLs\n",
    "\n",
    "\n",
    "if __name__ == '__main__':\n",
    "    print(cloneList([1, 3, 2, 2, 5, 6, 9, 7]))\n",
    "    print(cloneList(['abeer', 'CIT', 1, 4, '44']))"
   ]
  },
  {
   "cell_type": "markdown",
   "id": "6acf93b1",
   "metadata": {},
   "source": [
    "# p10"
   ]
  },
  {
   "cell_type": "code",
   "execution_count": 8,
   "id": "0de5cd9c",
   "metadata": {},
   "outputs": [
    {
     "name": "stdout",
     "output_type": "stream",
     "text": [
      "244\n"
     ]
    }
   ],
   "source": [
    "def sumDictonary(dic):\n",
    "    return sum(dic.values())\n",
    "\n",
    "\n",
    "if __name__ == '__main__':\n",
    "    my_dict = {'data1': 100, 'data2': -100, 'data3': 244}\n",
    "    print(sumDictonary(my_dict))"
   ]
  },
  {
   "cell_type": "markdown",
   "id": "fd5b3e6f",
   "metadata": {},
   "source": [
    "# p11"
   ]
  },
  {
   "cell_type": "code",
   "execution_count": 9,
   "id": "47c266c9",
   "metadata": {},
   "outputs": [
    {
     "name": "stdout",
     "output_type": "stream",
     "text": [
      "Both has a common element\n",
      "No common element\n"
     ]
    }
   ],
   "source": [
    "def isMatched(ls1, ls2):\n",
    "    for i in range(0, len(ls1)):\n",
    "        for j in range(0, len(ls2)):\n",
    "            if ls1[i] == ls2[j]:\n",
    "                return \"Both has a common element\"\n",
    "\n",
    "    return \"No common element\"\n",
    "\n",
    "\n",
    "if __name__ == '__main__':\n",
    "    List1 = ['Red', 'Green', 'White', 'Black', 'Pink', 'Yellow']\n",
    "    List2 = ['Red', 'Greefn', 'Wdite', 'Blasck', 'Pinfk', 'Yehllow']\n",
    "\n",
    "    List3 = ['Red', 'Green', 'White', 'Black', 'Pink', 'Yellow']\n",
    "    List4 = ['Rjed', 'Greefn', 'Whjite', 'Blasck', 'Pinfk', 'Yehllow']\n",
    "    print(isMatched(List1, List2))\n",
    "    print(isMatched(List3, List4))"
   ]
  },
  {
   "cell_type": "markdown",
   "id": "9e7e5577",
   "metadata": {},
   "source": [
    "# p12"
   ]
  },
  {
   "cell_type": "code",
   "execution_count": 10,
   "id": "535d4fa8",
   "metadata": {},
   "outputs": [
    {
     "name": "stdout",
     "output_type": "stream",
     "text": [
      "['Green', 'White', 'Black']\n"
     ]
    }
   ],
   "source": [
    "def removeSpecificElement(ls):\n",
    "    lsN = []\n",
    "    index = 0\n",
    "    for i in range(0, len(ls)):\n",
    "        if i != 0 and i != 4 and i != 5:\n",
    "            lsN.append(ls[i])\n",
    "            \n",
    "    return lsN\n",
    "\n",
    "\n",
    "if __name__ == '__main__':\n",
    "    List1 = ['Red', 'Green', 'White', 'Black', 'Pink', 'Yellow']\n",
    "    print(removeSpecificElement(List1))"
   ]
  },
  {
   "cell_type": "markdown",
   "id": "1a970943",
   "metadata": {},
   "source": [
    "# p14 "
   ]
  },
  {
   "cell_type": "code",
   "execution_count": 11,
   "id": "9e628e81",
   "metadata": {},
   "outputs": [
    {
     "name": "stdout",
     "output_type": "stream",
     "text": [
      "[1, 3, 5, 7]\n"
     ]
    }
   ],
   "source": [
    "def removeEven(ls):\n",
    "    lsN = []\n",
    "    index = 0\n",
    "    for i in range(0, len(ls)):\n",
    "        if ls[i] % 2 != 0:\n",
    "            lsN.append(ls[i])\n",
    "\n",
    "    return lsN\n",
    "\n",
    "\n",
    "if __name__ == '__main__':\n",
    "    List1 = [1, 2, 3, 4, 5, 6, 7]\n",
    "    print(removeEven(List1))"
   ]
  },
  {
   "cell_type": "markdown",
   "id": "3680f306",
   "metadata": {},
   "source": [
    "# p15"
   ]
  },
  {
   "cell_type": "code",
   "execution_count": 16,
   "id": "4bcae93c",
   "metadata": {},
   "outputs": [
    {
     "name": "stdout",
     "output_type": "stream",
     "text": [
      "[0, 6, 7, 8, 9, 10, 11, 12, 13, 14, 15, 16, 17, 18, 19]\n"
     ]
    }
   ],
   "source": [
    "def generateExceptElements(n):\n",
    "    ls =[]\n",
    "    for i in range(0, n):\n",
    "        if (i*i) <= 0 or (i*i) >= 30:\n",
    "            ls.append(i)\n",
    "    return ls\n",
    "\n",
    "\n",
    "if __name__ == '__main__':\n",
    "    print(generateExceptElements(20))\n"
   ]
  },
  {
   "cell_type": "code",
   "execution_count": null,
   "id": "3606a5c3",
   "metadata": {},
   "outputs": [],
   "source": []
  },
  {
   "cell_type": "markdown",
   "id": "81e4ad87",
   "metadata": {},
   "source": [
    "# p18"
   ]
  },
  {
   "cell_type": "code",
   "execution_count": 4,
   "id": "97d5e775",
   "metadata": {},
   "outputs": [
    {
     "name": "stdout",
     "output_type": "stream",
     "text": [
      "Not Empty\n",
      "Empty\n"
     ]
    }
   ],
   "source": [
    "def isEmptyDictonary(dic):\n",
    "    if len(dic) == 0:\n",
    "        return \"Empty\"\n",
    "    else:\n",
    "        return \"Not Empty\"\n",
    "\n",
    "\n",
    "if __name__ == '__main__':\n",
    "    my_dict1 = {'data1': 1300, 'data2': -1200, 'data3': 244}\n",
    "    my_dict2 = {}\n",
    "    print(isEmptyDictonary(my_dict1))\n",
    "    print(isEmptyDictonary(my_dict2))\n"
   ]
  },
  {
   "cell_type": "markdown",
   "id": "729adf0b",
   "metadata": {},
   "source": [
    "# p19"
   ]
  },
  {
   "cell_type": "code",
   "execution_count": 6,
   "id": "f92d3eec",
   "metadata": {},
   "outputs": [
    {
     "name": "stdout",
     "output_type": "stream",
     "text": [
      "Counter({'data1': 2600, 'data2': 2200, 'data3': 488})\n"
     ]
    }
   ],
   "source": [
    "from collections import Counter\n",
    "def margeDictonary(dic1, dic2):\n",
    "    return Counter(dic1) + Counter(dic2)\n",
    "\n",
    "\n",
    "if __name__ == '__main__':\n",
    "    my_dict1 = {'data1': 1300, 'data2': 1200, 'data3': 244}\n",
    "    my_dict2 = {'data1': 1300, 'data2': 1000, 'data3': 244}\n",
    "    print(margeDictonary(my_dict1, my_dict2))"
   ]
  },
  {
   "cell_type": "markdown",
   "id": "dc3846c8",
   "metadata": {},
   "source": [
    "# p24"
   ]
  },
  {
   "cell_type": "code",
   "execution_count": 2,
   "id": "961a1ef3",
   "metadata": {},
   "outputs": [
    {
     "name": "stdout",
     "output_type": "stream",
     "text": [
      "Counter({'e': 2, 'a': 1, 'b': 1, 'r': 1})\n"
     ]
    }
   ],
   "source": [
    "from collections import Counter\n",
    "def countLetter(str):\n",
    "\n",
    "    return Counter(str)\n",
    "\n",
    "\n",
    "if __name__ == '__main__':\n",
    "    print(countLetter('abeer'))"
   ]
  },
  {
   "cell_type": "code",
   "execution_count": null,
   "id": "eacb4110",
   "metadata": {},
   "outputs": [],
   "source": []
  }
 ],
 "metadata": {
  "kernelspec": {
   "display_name": "Python 3 (ipykernel)",
   "language": "python",
   "name": "python3"
  },
  "language_info": {
   "codemirror_mode": {
    "name": "ipython",
    "version": 3
   },
   "file_extension": ".py",
   "mimetype": "text/x-python",
   "name": "python",
   "nbconvert_exporter": "python",
   "pygments_lexer": "ipython3",
   "version": "3.10.7"
  }
 },
 "nbformat": 4,
 "nbformat_minor": 5
}
