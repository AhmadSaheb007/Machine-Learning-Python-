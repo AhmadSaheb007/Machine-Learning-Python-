{
 "cells": [
  {
   "cell_type": "markdown",
   "id": "64c8a183",
   "metadata": {},
   "source": [
    "# p1"
   ]
  },
  {
   "cell_type": "code",
   "execution_count": 2,
   "id": "ba124d66",
   "metadata": {},
   "outputs": [
    {
     "name": "stdout",
     "output_type": "stream",
     "text": [
      "15\n"
     ]
    }
   ],
   "source": [
    "def sumAll(ls):\n",
    "    summ = 0\n",
    "    for n in ls:\n",
    "        summ = summ + n;\n",
    "\n",
    "    return summ\n",
    "\n",
    "\n",
    "if __name__ == '__main__':\n",
    "\n",
    "    print(sumAll([1, 3, 5, 6]))"
   ]
  },
  {
   "cell_type": "markdown",
   "id": "1ec43e06",
   "metadata": {},
   "source": [
    "# p2"
   ]
  },
  {
   "cell_type": "code",
   "execution_count": 3,
   "id": "120fdd58",
   "metadata": {},
   "outputs": [
    {
     "name": "stdout",
     "output_type": "stream",
     "text": [
      "30\n"
     ]
    }
   ],
   "source": [
    "def mulAll(ls):\n",
    "    mul = 1\n",
    "    for n in ls:\n",
    "        mul = mul * n;\n",
    "\n",
    "    return mul\n",
    "\n",
    "\n",
    "if __name__ == '__main__':\n",
    "    print(mulAll([1, 3, 5, 2]))"
   ]
  },
  {
   "cell_type": "markdown",
   "id": "8bc1a9f9",
   "metadata": {},
   "source": [
    "# p3"
   ]
  },
  {
   "cell_type": "code",
   "execution_count": 4,
   "id": "cf7fecd1",
   "metadata": {},
   "outputs": [
    {
     "name": "stdout",
     "output_type": "stream",
     "text": [
      "5\n",
      "3\n",
      "-1\n",
      "0\n"
     ]
    }
   ],
   "source": [
    "def findLargest(ls):\n",
    "    lar = -100000000\n",
    "    for n in ls:\n",
    "        if n >= lar:\n",
    "            lar = n\n",
    "    return lar\n",
    "\n",
    "\n",
    "if __name__ == '__main__':\n",
    "    print(findLargest([1, 3, 5, 2]))\n",
    "    print(findLargest([3, 3, 3, 3]))\n",
    "    print(findLargest([-1, -3, -5, -2]))\n",
    "    print(findLargest([0, 0, 0, 0]))"
   ]
  },
  {
   "cell_type": "markdown",
   "id": "3c88862b",
   "metadata": {},
   "source": [
    "# p4"
   ]
  },
  {
   "cell_type": "code",
   "execution_count": 5,
   "id": "5efd89b1",
   "metadata": {},
   "outputs": [
    {
     "name": "stdout",
     "output_type": "stream",
     "text": [
      "1\n",
      "3\n",
      "-5\n",
      "0\n"
     ]
    }
   ],
   "source": [
    "def findSmallest(ls):\n",
    "    sml = 100000000\n",
    "    for n in ls:\n",
    "        if n <= sml:\n",
    "            sml = n\n",
    "    return sml\n",
    "\n",
    "\n",
    "if __name__ == '__main__':\n",
    "    print(findSmallest([1, 3, 5, 2]))\n",
    "    print(findSmallest([3, 3, 3, 3]))\n",
    "    print(findSmallest([-1, -3, -5, -2]))\n",
    "    print(findSmallest([0, 0, 0, 0]))"
   ]
  },
  {
   "cell_type": "markdown",
   "id": "8229aae2",
   "metadata": {},
   "source": [
    "# p5"
   ]
  },
  {
   "cell_type": "code",
   "execution_count": null,
   "id": "aa868b5f",
   "metadata": {},
   "outputs": [],
   "source": []
  },
  {
   "cell_type": "markdown",
   "id": "b55bdc22",
   "metadata": {},
   "source": [
    "# p6"
   ]
  },
  {
   "cell_type": "code",
   "execution_count": null,
   "id": "90ec9f2f",
   "metadata": {},
   "outputs": [],
   "source": []
  },
  {
   "cell_type": "markdown",
   "id": "d68e9810",
   "metadata": {},
   "source": [
    "# p7"
   ]
  },
  {
   "cell_type": "code",
   "execution_count": 22,
   "id": "3cb46c0f",
   "metadata": {},
   "outputs": [
    {
     "name": "stdout",
     "output_type": "stream",
     "text": [
      "{1, 2, 3, 4, 5, 7}\n"
     ]
    }
   ],
   "source": [
    "def removeDuplicatea(ls):\n",
    "    return set(ls)\n",
    "\n",
    "if __name__ == '__main__':\n",
    "    print(removeDuplicatea([1, 1, 3, 5, 4, 2, 5, 5, 7, 5]))"
   ]
  },
  {
   "cell_type": "markdown",
   "id": "46b70455",
   "metadata": {},
   "source": [
    "# p8"
   ]
  },
  {
   "cell_type": "code",
   "execution_count": 6,
   "id": "fc84daa9",
   "metadata": {},
   "outputs": [
    {
     "name": "stdout",
     "output_type": "stream",
     "text": [
      "Not Empty\n",
      "None\n",
      "Empty\n",
      "None\n"
     ]
    }
   ],
   "source": [
    "def isEmpty(ls):\n",
    "\n",
    "    if len(ls) == 0:\n",
    "        print(\"Empty\")\n",
    "    else:\n",
    "        print(\"Not Empty\")\n",
    "\n",
    "\n",
    "if __name__ == '__main__':\n",
    "    print(isEmpty([1, 3, 2, 2, 5, 6, 9, 7]))\n",
    "    print(isEmpty([]))"
   ]
  },
  {
   "cell_type": "markdown",
   "id": "f38caafc",
   "metadata": {},
   "source": [
    "# p9"
   ]
  },
  {
   "cell_type": "code",
   "execution_count": 7,
   "id": "106a837b",
   "metadata": {},
   "outputs": [
    {
     "name": "stdout",
     "output_type": "stream",
     "text": [
      "[1, 3, 2, 2, 5, 6, 9, 7]\n",
      "['abeer', 'CIT', 1, 4, '44']\n"
     ]
    }
   ],
   "source": [
    "def cloneList(ls):\n",
    "    nLs = list(ls)\n",
    "    return nLs\n",
    "\n",
    "\n",
    "if __name__ == '__main__':\n",
    "    print(cloneList([1, 3, 2, 2, 5, 6, 9, 7]))\n",
    "    print(cloneList(['abeer', 'CIT', 1, 4, '44']))"
   ]
  },
  {
   "cell_type": "markdown",
   "id": "6acf93b1",
   "metadata": {},
   "source": [
    "# p10"
   ]
  },
  {
   "cell_type": "code",
   "execution_count": 8,
   "id": "0de5cd9c",
   "metadata": {},
   "outputs": [
    {
     "name": "stdout",
     "output_type": "stream",
     "text": [
      "244\n"
     ]
    }
   ],
   "source": [
    "def sumDictonary(dic):\n",
    "    return sum(dic.values())\n",
    "\n",
    "\n",
    "if __name__ == '__main__':\n",
    "    my_dict = {'data1': 100, 'data2': -100, 'data3': 244}\n",
    "    print(sumDictonary(my_dict))"
   ]
  },
  {
   "cell_type": "markdown",
   "id": "fd5b3e6f",
   "metadata": {},
   "source": [
    "# p11"
   ]
  },
  {
   "cell_type": "code",
   "execution_count": 9,
   "id": "47c266c9",
   "metadata": {},
   "outputs": [
    {
     "name": "stdout",
     "output_type": "stream",
     "text": [
      "Both has a common element\n",
      "No common element\n"
     ]
    }
   ],
   "source": [
    "def isMatched(ls1, ls2):\n",
    "    for i in range(0, len(ls1)):\n",
    "        for j in range(0, len(ls2)):\n",
    "            if ls1[i] == ls2[j]:\n",
    "                return \"Both has a common element\"\n",
    "\n",
    "    return \"No common element\"\n",
    "\n",
    "\n",
    "if __name__ == '__main__':\n",
    "    List1 = ['Red', 'Green', 'White', 'Black', 'Pink', 'Yellow']\n",
    "    List2 = ['Red', 'Greefn', 'Wdite', 'Blasck', 'Pinfk', 'Yehllow']\n",
    "\n",
    "    List3 = ['Red', 'Green', 'White', 'Black', 'Pink', 'Yellow']\n",
    "    List4 = ['Rjed', 'Greefn', 'Whjite', 'Blasck', 'Pinfk', 'Yehllow']\n",
    "    print(isMatched(List1, List2))\n",
    "    print(isMatched(List3, List4))"
   ]
  },
  {
   "cell_type": "markdown",
   "id": "9e7e5577",
   "metadata": {},
   "source": [
    "# p12"
   ]
  },
  {
   "cell_type": "code",
   "execution_count": 10,
   "id": "535d4fa8",
   "metadata": {},
   "outputs": [
    {
     "name": "stdout",
     "output_type": "stream",
     "text": [
      "['Green', 'White', 'Black']\n"
     ]
    }
   ],
   "source": [
    "def removeSpecificElement(ls):\n",
    "    lsN = []\n",
    "    index = 0\n",
    "    for i in range(0, len(ls)):\n",
    "        if i != 0 and i != 4 and i != 5:\n",
    "            lsN.append(ls[i])\n",
    "            \n",
    "    return lsN\n",
    "\n",
    "\n",
    "if __name__ == '__main__':\n",
    "    List1 = ['Red', 'Green', 'White', 'Black', 'Pink', 'Yellow']\n",
    "    print(removeSpecificElement(List1))"
   ]
  },
  {
   "cell_type": "markdown",
   "id": "1a970943",
   "metadata": {},
   "source": [
    "# p14 "
   ]
  },
  {
   "cell_type": "code",
   "execution_count": 11,
   "id": "9e628e81",
   "metadata": {},
   "outputs": [
    {
     "name": "stdout",
     "output_type": "stream",
     "text": [
      "[1, 3, 5, 7]\n"
     ]
    }
   ],
   "source": [
    "def removeEven(ls):\n",
    "    lsN = []\n",
    "    index = 0\n",
    "    for i in range(0, len(ls)):\n",
    "        if ls[i] % 2 != 0:\n",
    "            lsN.append(ls[i])\n",
    "\n",
    "    return lsN\n",
    "\n",
    "\n",
    "if __name__ == '__main__':\n",
    "    List1 = [1, 2, 3, 4, 5, 6, 7]\n",
    "    print(removeEven(List1))"
   ]
  },
  {
   "cell_type": "markdown",
   "id": "3680f306",
   "metadata": {},
   "source": [
    "# p17"
   ]
  },
  {
   "cell_type": "code",
   "execution_count": 16,
   "id": "4bcae93c",
   "metadata": {},
   "outputs": [
    {
     "name": "stdout",
     "output_type": "stream",
     "text": [
      "[0, 6, 7, 8, 9, 10, 11, 12, 13, 14, 15, 16, 17, 18, 19]\n"
     ]
    }
   ],
   "source": [
    "def generateExceptElements(n):\n",
    "    ls =[]\n",
    "    for i in range(0, n):\n",
    "        if (i*i) <= 0 or (i*i) >= 30:\n",
    "            ls.append(i)\n",
    "    return ls\n",
    "\n",
    "\n",
    "if __name__ == '__main__':\n",
    "    print(generateExceptElements(20))\n"
   ]
  },
  {
   "cell_type": "markdown",
   "id": "81e4ad87",
   "metadata": {},
   "source": [
    "# p18"
   ]
  },
  {
   "cell_type": "code",
   "execution_count": null,
   "id": "97d5e775",
   "metadata": {},
   "outputs": [],
   "source": []
  },
  {
   "cell_type": "markdown",
   "id": "729adf0b",
   "metadata": {},
   "source": [
    "# p19"
   ]
  },
  {
   "cell_type": "code",
   "execution_count": 20,
   "id": "f92d3eec",
   "metadata": {},
   "outputs": [
    {
     "name": "stdout",
     "output_type": "stream",
     "text": [
      "['Black', 'Green', 'Pink', 'Blasck', 'Greefn', 'Pinfk']\n"
     ]
    }
   ],
   "source": [
    "def findDifference(ls1, ls2):\n",
    "    diffLs1 = list(set(ls1) - set(ls2))\n",
    "    diffLs2 = list(set(ls2) - set(ls1))\n",
    "\n",
    "    return diffLs1 + diffLs2\n",
    "\n",
    "\n",
    "if __name__ == '__main__':\n",
    "    List1 = ['Red', 'Green', 'White', 'Black', 'Pink', 'Yellow']\n",
    "    List2 = ['Red', 'Greefn', 'White', 'Blasck', 'Pinfk', 'Yellow']\n",
    "\n",
    "    print(findDifference(List1, List2))"
   ]
  },
  {
   "cell_type": "markdown",
   "id": "dc3846c8",
   "metadata": {},
   "source": [
    "# p20"
   ]
  },
  {
   "cell_type": "code",
   "execution_count": 26,
   "id": "961a1ef3",
   "metadata": {},
   "outputs": [
    {
     "name": "stdout",
     "output_type": "stream",
     "text": [
      "1 is in index 0\n",
      "3 is in index 1\n",
      "4 is in index 2\n",
      "6 is in index 3\n",
      "7 is in index 4\n",
      "11 is in index 5\n"
     ]
    }
   ],
   "source": [
    "def accessIndex(ls):\n",
    "    for i in range(0, len(ls)):\n",
    "        print(ls[i], \"is in index\", ls.index(ls[i]))\n",
    "\n",
    "\n",
    "if __name__ == '__main__':\n",
    "    accessIndex([1, 3, 4, 6, 7,11])"
   ]
  },
  {
   "cell_type": "markdown",
   "id": "dd11d6e3",
   "metadata": {},
   "source": [
    "# p21"
   ]
  },
  {
   "cell_type": "code",
   "execution_count": 28,
   "id": "cfc716f7",
   "metadata": {},
   "outputs": [
    {
     "name": "stdout",
     "output_type": "stream",
     "text": [
      "abeer\n",
      "w3scl\n"
     ]
    }
   ],
   "source": [
    "def charToString(ls):\n",
    "    str = \"\"\n",
    "    for i in range(0, len(ls)):\n",
    "        str = str + ls[i]\n",
    "    return str\n",
    "\n",
    "if __name__ == '__main__':\n",
    "    print(charToString([\"a\", \"b\", \"e\", \"e\", \"r\"]))\n",
    "    print(charToString([\"w\", \"3\", \"s\", \"c\", \"l\"]))"
   ]
  },
  {
   "cell_type": "markdown",
   "id": "5d16dced",
   "metadata": {},
   "source": [
    "# p22"
   ]
  },
  {
   "cell_type": "code",
   "execution_count": 35,
   "id": "9b990d6d",
   "metadata": {},
   "outputs": [
    {
     "name": "stdout",
     "output_type": "stream",
     "text": [
      "2\n"
     ]
    }
   ],
   "source": [
    "def getIndexByElemetValue(ls, target):\n",
    "\n",
    "    for i in range(0, len(ls)):\n",
    "        if ls[i] == target:\n",
    "            return i\n",
    "\n",
    "if __name__ == '__main__':\n",
    "    print(getIndexByElemetValue([1, 3, 4, 6, 7,11], 4))"
   ]
  },
  {
   "cell_type": "markdown",
   "id": "48220986",
   "metadata": {},
   "source": [
    "# p24"
   ]
  },
  {
   "cell_type": "code",
   "execution_count": 36,
   "id": "82b65c88",
   "metadata": {},
   "outputs": [
    {
     "name": "stdout",
     "output_type": "stream",
     "text": [
      "[1, 2, 3, 4, 5, 'Red', 'Greefn', 'White', 'Blasck', 'Pinfk', 'Yellow']\n"
     ]
    }
   ],
   "source": [
    "def appendList(ls1, ls2):\n",
    "    for i in range(0, len(ls2)):\n",
    "        ls1.append(ls2[i])\n",
    "    return ls1\n",
    "\n",
    "if __name__ == '__main__':\n",
    "    List1 = [1, 2, 3, 4, 5]\n",
    "    List2 = ['Red', 'Greefn', 'White', 'Blasck', 'Pinfk', 'Yellow']\n",
    "\n",
    "    print(appendList(List1, List2))"
   ]
  },
  {
   "cell_type": "markdown",
   "id": "5f2d694e",
   "metadata": {},
   "source": [
    "# p25"
   ]
  },
  {
   "cell_type": "code",
   "execution_count": 40,
   "id": "988d89c8",
   "metadata": {},
   "outputs": [
    {
     "name": "stdout",
     "output_type": "stream",
     "text": [
      "Yellow\n"
     ]
    }
   ],
   "source": [
    "import random\n",
    "\n",
    "\n",
    "def choiceRandom(ls):\n",
    "    return random.choice(ls)\n",
    "\n",
    "if __name__ == '__main__':\n",
    "    List2 = ['Red', 'Greefn', 'White', 'Blasck', 'Pinfk', 'Yellow']\n",
    "    print(choiceRandom(List2))"
   ]
  },
  {
   "cell_type": "markdown",
   "id": "bff57af4",
   "metadata": {},
   "source": [
    "# p27"
   ]
  },
  {
   "cell_type": "code",
   "execution_count": 43,
   "id": "b86afa5d",
   "metadata": {},
   "outputs": [
    {
     "name": "stdout",
     "output_type": "stream",
     "text": [
      "4\n"
     ]
    }
   ],
   "source": [
    "def secondSmallValue(ls):\n",
    "    min1 = min(ls)\n",
    "    i = ls.index(min1)\n",
    "    ls[i] = 10000000\n",
    "    minFinal = min(ls)\n",
    "\n",
    "    return minFinal\n",
    "\n",
    "if __name__ == '__main__':\n",
    "    print(secondSmallValue([1, 9, 4, 6, 7,11]))\n",
    "    "
   ]
  },
  {
   "cell_type": "markdown",
   "id": "0d29c84e",
   "metadata": {},
   "source": [
    "# p28"
   ]
  },
  {
   "cell_type": "code",
   "execution_count": 45,
   "id": "9bdd0200",
   "metadata": {},
   "outputs": [
    {
     "name": "stdout",
     "output_type": "stream",
     "text": [
      "7\n"
     ]
    }
   ],
   "source": [
    "def secondMaxValue(ls):\n",
    "    max1 = max(ls)\n",
    "    i = ls.index(max1)\n",
    "    ls[i] = -10000000\n",
    "    maxFinal = max(ls)\n",
    "\n",
    "    return maxFinal\n",
    "\n",
    "if __name__ == '__main__':\n",
    "    print(secondMaxValue([1, 0, 4, 6, 7,11]))"
   ]
  },
  {
   "cell_type": "markdown",
   "id": "b62a5436",
   "metadata": {},
   "source": [
    "# p29"
   ]
  },
  {
   "cell_type": "code",
   "execution_count": 49,
   "id": "51a89857",
   "metadata": {},
   "outputs": [
    {
     "name": "stdout",
     "output_type": "stream",
     "text": [
      "{0, 1, 6, 7, 8, 11, 12}\n"
     ]
    }
   ],
   "source": [
    "def getUniqueElements(ls):\n",
    "    return set(ls)\n",
    "\n",
    "if __name__ == '__main__':\n",
    "    print(getUniqueElements([1, 0, 11, 6, 7,11, 0, 12, 1, 6, 8, 7, 11]))"
   ]
  },
  {
   "cell_type": "markdown",
   "id": "4b71893e",
   "metadata": {},
   "source": [
    "# p30"
   ]
  },
  {
   "cell_type": "code",
   "execution_count": 19,
   "id": "511de50f",
   "metadata": {},
   "outputs": [
    {
     "name": "stdout",
     "output_type": "stream",
     "text": [
      "[[['*', '*', '*', '*', '*', '*'], ['*', '*', '*', '*', '*', '*'], ['*', '*', '*', '*', '*', '*'], ['*', '*', '*', '*', '*', '*']]]\n",
      "[[['*', '*', '*', '*', '*', '*'], ['*', '*', '*', '*', '*', '*'], ['*', '*', '*', '*', '*', '*'], ['*', '*', '*', '*', '*', '*']]]\n",
      "[[['*', '*', '*', '*', '*', '*'], ['*', '*', '*', '*', '*', '*'], ['*', '*', '*', '*', '*', '*'], ['*', '*', '*', '*', '*', '*']]]\n"
     ]
    }
   ],
   "source": [
    "s = ('* ' * 6).split()\n",
    "for i in range(0, 3):\n",
    "    print([4 *[s]])"
   ]
  },
  {
   "cell_type": "markdown",
   "id": "bf5b7259",
   "metadata": {},
   "source": [
    "# p33"
   ]
  },
  {
   "cell_type": "code",
   "execution_count": 1,
   "id": "3ddadd2c",
   "metadata": {},
   "outputs": [
    {
     "name": "stdout",
     "output_type": "stream",
     "text": [
      "[[1, 2, 3, 4, 5], [2, 3, 4, 5], [3, 4, 5], [4, 5], [5]]\n"
     ]
    }
   ],
   "source": [
    "def generateSublist(ls):\n",
    "    sub = []\n",
    "    for i in range(0, len(ls)):\n",
    "        lsN = []\n",
    "        for j in range(i, len(ls)):\n",
    "            lsN.append(ls[j])\n",
    "        sub.append(lsN)\n",
    "    return sub\n",
    "\n",
    "if __name__ == '__main__':\n",
    "    print(generateSublist([1, 2, 3, 4, 5]))"
   ]
  },
  {
   "cell_type": "markdown",
   "id": "9469958f",
   "metadata": {},
   "source": [
    "# p38"
   ]
  },
  {
   "cell_type": "code",
   "execution_count": 5,
   "id": "6b0b393a",
   "metadata": {},
   "outputs": [
    {
     "name": "stdout",
     "output_type": "stream",
     "text": [
      "[1, 2, 4, 3, 5]\n"
     ]
    }
   ],
   "source": [
    "def swapPositions(ls, n):\n",
    "     temp = ls[n + 1]\n",
    "     ls[ n + 1] = ls[n]\n",
    "     ls[n] = temp\n",
    "     return ls\n",
    "\n",
    "if __name__ == '__main__':\n",
    "    print(swapPositions([1, 2, 3, 4, 5], 2))"
   ]
  },
  {
   "cell_type": "markdown",
   "id": "7c72d67a",
   "metadata": {},
   "source": [
    "# p39"
   ]
  },
  {
   "cell_type": "code",
   "execution_count": 9,
   "id": "85829da4",
   "metadata": {},
   "outputs": [
    {
     "name": "stdout",
     "output_type": "stream",
     "text": [
      "11223345\n"
     ]
    }
   ],
   "source": [
    "def listTOInt(ls):\n",
    "    st = \"\"\n",
    "    for i in range(0, len(ls)):\n",
    "        st = st + str(ls[i])\n",
    "    return int(st)\n",
    "\n",
    "if __name__ == '__main__':\n",
    "    print(listTOInt([11, 22, 33, 4, 5]))"
   ]
  },
  {
   "cell_type": "markdown",
   "id": "f6823d8a",
   "metadata": {},
   "source": [
    "# p43"
   ]
  },
  {
   "cell_type": "code",
   "execution_count": 21,
   "id": "8d23598c",
   "metadata": {},
   "outputs": [
    {
     "name": "stdout",
     "output_type": "stream",
     "text": [
      "1 4 5 76 23\n"
     ]
    }
   ],
   "source": [
    "if __name__ == '__main__':\n",
    "    list1 = [1, 4, 5, 76, 23]\n",
    "    a1, a2, a3, a4, a5 = list1\n",
    "    print(a1, a2, a3, a4, a5)"
   ]
  },
  {
   "cell_type": "markdown",
   "id": "d949e6b3",
   "metadata": {},
   "source": [
    "# p44"
   ]
  },
  {
   "cell_type": "code",
   "execution_count": 8,
   "id": "5faf9137",
   "metadata": {},
   "outputs": [
    {
     "name": "stdout",
     "output_type": "stream",
     "text": [
      "[5, 6, 7, 8, 9]\n"
     ]
    }
   ],
   "source": [
    "def generateConsicutiveNumbers(ls, n):\n",
    "    srt = ls.index(n)\n",
    "    lsN = []\n",
    "    for i in range(srt-1, srt+4):\n",
    "        lsN.append(ls[i] + 1)\n",
    "    return lsN\n",
    "\n",
    "\n",
    "if __name__ == '__main__':\n",
    "    print(generateConsicutiveNumbers([1, 2, 3, 4, 5, 6, 7, 8, 9, 10, 11, 12, 13, 14, 15], 5))"
   ]
  },
  {
   "cell_type": "markdown",
   "id": "f64ca7e3",
   "metadata": {},
   "source": [
    "# p45"
   ]
  },
  {
   "cell_type": "code",
   "execution_count": null,
   "id": "e95c2c5c",
   "metadata": {},
   "outputs": [],
   "source": [
    "def generateConsicutiveNumbers(ls, n):\n",
    "    srt = ls.index(n)\n",
    "    lsN = []\n",
    "    for i in range(srt-1, srt+4):\n",
    "        lsN.append(ls[i] + 1)\n",
    "    return lsN\n",
    "\n",
    "\n",
    "if __name__ == '__main__':\n",
    "    print(generateConsicutiveNumbers([1, 2, 3, 4, 5, 6, 7, 8, 9, 10, 11, 12, 13, 14, 15], 5))"
   ]
  },
  {
   "cell_type": "markdown",
   "id": "512a6057",
   "metadata": {},
   "source": [
    "# p46"
   ]
  },
  {
   "cell_type": "code",
   "execution_count": 9,
   "id": "e96a84c5",
   "metadata": {},
   "outputs": [
    {
     "name": "stdout",
     "output_type": "stream",
     "text": [
      "[1, 3, 5, 7, 9, 11, 13, 15]\n"
     ]
    }
   ],
   "source": [
    "def selectOddItems(ls):\n",
    "    lsN = []\n",
    "\n",
    "    for i in range(0, len(ls)):\n",
    "        if ls[i] % 2!= 0:\n",
    "            lsN.append(ls[i])\n",
    "    return lsN\n",
    "\n",
    "\n",
    "if __name__ == '__main__':\n",
    "    print(selectOddItems([1, 2, 3, 4, 5, 6, 7, 8, 9, 10, 11, 12, 13, 14, 15]))"
   ]
  },
  {
   "cell_type": "markdown",
   "id": "f6039f4d",
   "metadata": {},
   "source": [
    "# p47"
   ]
  },
  {
   "cell_type": "code",
   "execution_count": 12,
   "id": "e74e24cf",
   "metadata": {},
   "outputs": [
    {
     "name": "stdout",
     "output_type": "stream",
     "text": [
      "[66, 1, 66, 2, 66, 3, 66, 4, 66, 5, 66, 6, 66, 7]\n",
      "['abeer', 'Black', 'abeer', 'Red', 'abeer', 'Green']\n"
     ]
    }
   ],
   "source": [
    "def insertElement(ls, element):\n",
    "    lsN = []\n",
    "\n",
    "    for i in range(0, len(ls)):\n",
    "        lsN.append(element)\n",
    "        lsN.append(ls[i])\n",
    "    return lsN\n",
    "\n",
    "\n",
    "if __name__ == '__main__':\n",
    "    print(insertElement([1, 2, 3, 4, 5, 6, 7], 66))\n",
    "    print(insertElement([\"Black\", \"Red\", \"Green\"], \"abeer\"))"
   ]
  },
  {
   "cell_type": "markdown",
   "id": "80dd7180",
   "metadata": {},
   "source": [
    "# p48"
   ]
  },
  {
   "cell_type": "code",
   "execution_count": 18,
   "id": "24260077",
   "metadata": {},
   "outputs": [
    {
     "name": "stdout",
     "output_type": "stream",
     "text": [
      "['Black', 'Red', 'Green']\n",
      "['Blue', 'White', 'Pink']\n",
      "['Plasma', 'WBC', 'Campus']\n",
      "None\n"
     ]
    }
   ],
   "source": [
    "def printNestedList(ls):\n",
    "    for i in range(0, len(ls)):\n",
    "        print(ls[i])\n",
    "\n",
    "\n",
    "if __name__ == '__main__':\n",
    "    print(printNestedList([[\"Black\", \"Red\", \"Green\"], [\"Blue\", \"White\", \"Pink\"], [\"Plasma\", \"WBC\", \"Campus\"]]))"
   ]
  },
  {
   "cell_type": "markdown",
   "id": "bc787b11",
   "metadata": {},
   "source": [
    "# p49"
   ]
  },
  {
   "cell_type": "code",
   "execution_count": 25,
   "id": "e4f9e69c",
   "metadata": {},
   "outputs": [
    {
     "name": "stdout",
     "output_type": "stream",
     "text": [
      "[{'color_name': 'Black', 'color_code': '#000000'}, {'color_name': 'Red', 'color_code': '#FF0000'}, {'color_name': 'Maroon', 'color_code': '#800000'}, {'color_name': 'Yellow', 'color_code': '#FFFF00'}]\n"
     ]
    }
   ],
   "source": [
    "def listToDict(ls1, ls2):\n",
    "    lsN = []\n",
    "\n",
    "    for i in range(0, len(ls1)):\n",
    "        dict1 = {}\n",
    "        dict1.update({\"color_name\" : ls1[i]})\n",
    "        dict1.update({\"color_code\" : ls2[i]})\n",
    "        lsN.append(dict1)\n",
    "    return lsN\n",
    "\n",
    "\n",
    "if __name__ == '__main__':\n",
    "    print(listToDict( [\"Black\", \"Red\", \"Maroon\", \"Yellow\"], [\"#000000\", \"#FF0000\",\n",
    "\"#800000\", \"#FFFF00\"] ))"
   ]
  },
  {
   "cell_type": "markdown",
   "id": "d4ac3487",
   "metadata": {},
   "source": [
    "# p50"
   ]
  },
  {
   "cell_type": "code",
   "execution_count": null,
   "id": "94672add",
   "metadata": {},
   "outputs": [],
   "source": []
  },
  {
   "cell_type": "markdown",
   "id": "9ba16c8a",
   "metadata": {},
   "source": [
    "# p51"
   ]
  },
  {
   "cell_type": "code",
   "execution_count": null,
   "id": "de6275ff",
   "metadata": {},
   "outputs": [],
   "source": []
  },
  {
   "cell_type": "markdown",
   "id": "21ac7702",
   "metadata": {},
   "source": [
    "# p53"
   ]
  },
  {
   "cell_type": "code",
   "execution_count": 28,
   "id": "36ec5649",
   "metadata": {},
   "outputs": [
    {
     "name": "stdout",
     "output_type": "stream",
     "text": [
      "{'red', 'white', 'orange'}\n",
      "{'black', 'yellow'}\n"
     ]
    }
   ],
   "source": [
    "def findBothDiff(ls1, ls2):\n",
    "    print (set(ls1) - set(ls2))\n",
    "    print (set(ls2) - set(ls1))\n",
    "\n",
    "\n",
    "if __name__ == '__main__':\n",
    "    findBothDiff(  [\"red\", \"orange\", \"green\", \"blue\", \"white\"], [\"black\", \"yellow\", \"green\", \n",
    "\"blue\"])"
   ]
  },
  {
   "cell_type": "markdown",
   "id": "093c7d35",
   "metadata": {},
   "source": [
    "# p54"
   ]
  },
  {
   "cell_type": "code",
   "execution_count": 34,
   "id": "1fd60ee6",
   "metadata": {},
   "outputs": [
    {
     "name": "stdout",
     "output_type": "stream",
     "text": [
      "red-orange-green-blue-white\n",
      "redorangegreenbluewhite\n"
     ]
    }
   ],
   "source": [
    "def printConcatenateElements(ls1):\n",
    "    contcateStr = ''\n",
    "    contcateStr2 = ''\n",
    "    for i in range(0, len(ls1)):\n",
    "        contcateStr2 = contcateStr2 + ls1[i]\n",
    "        contcateStr = contcateStr + ls1[i]\n",
    "        contcateStr = contcateStr + \"-\"\n",
    "    contcateStr= contcateStr[:-1]\n",
    "    print (contcateStr)\n",
    "    print (contcateStr2)\n",
    "\n",
    "\n",
    "if __name__ == '__main__':\n",
    "    printConcatenateElements(  [\"red\", \"orange\", \"green\", \"blue\", \"white\"])"
   ]
  },
  {
   "cell_type": "markdown",
   "id": "51ad7632",
   "metadata": {},
   "source": [
    "# p55"
   ]
  },
  {
   "cell_type": "code",
   "execution_count": null,
   "id": "2cbf5199",
   "metadata": {},
   "outputs": [],
   "source": []
  },
  {
   "cell_type": "markdown",
   "id": "669221ba",
   "metadata": {},
   "source": [
    "# p56"
   ]
  },
  {
   "cell_type": "code",
   "execution_count": 37,
   "id": "3df70d3a",
   "metadata": {},
   "outputs": [
    {
     "name": "stdout",
     "output_type": "stream",
     "text": [
      "['Red', 'Green', 'White']\n"
     ]
    }
   ],
   "source": [
    "import ast\n",
    "\n",
    "def  stringToList(str):\n",
    "    return ast.literal_eval(str)\n",
    "\n",
    "if __name__ == '__main__':\n",
    "   print(stringToList(\"['Red', 'Green', 'White']\"))"
   ]
  },
  {
   "cell_type": "markdown",
   "id": "8631a560",
   "metadata": {},
   "source": [
    "# p57"
   ]
  },
  {
   "cell_type": "code",
   "execution_count": 40,
   "id": "7fb0bb10",
   "metadata": {},
   "outputs": [
    {
     "name": "stdout",
     "output_type": "stream",
     "text": [
      "not equal\n",
      "Equal\n"
     ]
    }
   ],
   "source": [
    "import ast\n",
    "def isEqual(str):\n",
    "    ls = ast.literal_eval(str)\n",
    "    for i in range(0, len(ls)):\n",
    "        for j in range(i+1, len(ls)):\n",
    "            if ls[i] != ls[j]:\n",
    "                return \"not equal\"\n",
    "    return \"Equal\"\n",
    "\n",
    "if __name__ == '__main__':\n",
    "   print(isEqual(\"['Red', 'Green', 'White']\"))\n",
    "   print(isEqual(\"['Red', 'Red', 'Red']\"))\n"
   ]
  },
  {
   "cell_type": "markdown",
   "id": "876af115",
   "metadata": {},
   "source": [
    "# p58"
   ]
  },
  {
   "cell_type": "code",
   "execution_count": 44,
   "id": "752d72dc",
   "metadata": {},
   "outputs": [
    {
     "name": "stdout",
     "output_type": "stream",
     "text": [
      "[1, 3, 5, 7, 9, 2, 4, 6, 8]\n"
     ]
    }
   ],
   "source": [
    "def addList(ls1, ls2):\n",
    "   del ls1[len(ls1) - 1]\n",
    "   return ls1 + ls2\n",
    "if __name__ == '__main__':\n",
    "   print(addList( [1, 3, 5, 7, 9, 10], [2, 4, 6, 8]))"
   ]
  },
  {
   "cell_type": "markdown",
   "id": "521524da",
   "metadata": {},
   "source": [
    "# p59"
   ]
  },
  {
   "cell_type": "code",
   "execution_count": 48,
   "id": "6f459a2e",
   "metadata": {},
   "outputs": [
    {
     "name": "stdout",
     "output_type": "stream",
     "text": [
      "Available\n"
     ]
    }
   ],
   "source": [
    "def findNthElement(ls, index):\n",
    "    for i in range(0, len(ls)):\n",
    "        if ls[i] == ls[index]:\n",
    "            return \"Available\"\n",
    "    return \"Not Available\"\n",
    "\n",
    "\n",
    "if __name__ == '__main__':\n",
    "    print(findNthElement([1, 3, 5, 7, 9, 10], -1))\n"
   ]
  },
  {
   "cell_type": "markdown",
   "id": "37107155",
   "metadata": {},
   "source": [
    "# p60"
   ]
  },
  {
   "cell_type": "code",
   "execution_count": 51,
   "id": "bb3bc991",
   "metadata": {},
   "outputs": [
    {
     "name": "stdout",
     "output_type": "stream",
     "text": [
      "(9, 10)\n"
     ]
    }
   ],
   "source": [
    "def secondSmallestTuple(ls):\n",
    "    return ls[2]\n",
    "\n",
    "if __name__ == '__main__':\n",
    "    print(secondSmallestTuple([(1, 3), (5, 7), (9, 10)]))"
   ]
  },
  {
   "cell_type": "markdown",
   "id": "66001283",
   "metadata": {},
   "source": [
    "# p61"
   ]
  },
  {
   "cell_type": "code",
   "execution_count": 3,
   "id": "fe7fd49e",
   "metadata": {},
   "outputs": [
    {
     "name": "stdout",
     "output_type": "stream",
     "text": [
      "[{}, {}, {}, {}, {}]\n"
     ]
    }
   ],
   "source": [
    "def createEmptyList():\n",
    "    ls = []\n",
    "    dist = {}\n",
    "    for i in range(0, 5):\n",
    "        ls.append(dist)\n",
    "\n",
    "    return ls\n",
    "\n",
    "if __name__ == '__main__':\n",
    "    print(createEmptyList())"
   ]
  },
  {
   "cell_type": "markdown",
   "id": "88a42b92",
   "metadata": {},
   "source": [
    "# p62"
   ]
  },
  {
   "cell_type": "code",
   "execution_count": 58,
   "metadata": {},
   "outputs": [
    {
     "name": "stdout",
     "output_type": "stream",
     "text": [
      "1 2 3 4 5 6 \n"
     ]
    }
   ],
   "source": [
    "def printSpaceSeparatedElements(ls):\n",
    "    strs = ''\n",
    "    for i in range(0, len(ls)):\n",
    "        strs = strs + str(ls[i]) + \" \"\n",
    "    return strs   \n",
    "\n",
    "if __name__ == '__main__':\n",
    "    print(printSpaceSeparatedElements([1, 2, 3, 4, 5, 6]))"
   ]
  },
  {
   "cell_type": "markdown",
   "id": "acd32807",
   "metadata": {},
   "source": [
    "# p63"
   ]
  },
  {
   "cell_type": "code",
   "execution_count": 61,
   "id": "d8e95aad",
   "metadata": {},
   "outputs": [
    {
     "name": "stdout",
     "output_type": "stream",
     "text": [
      "['emp1', 'emp2', 'emp3', 'emp4', 'emp5', 'emp6']\n"
     ]
    }
   ],
   "source": [
    "def appendStr(ls, strs):\n",
    "    lsN = []\n",
    "    for i in range (0, len(ls)):\n",
    "        lsN.append(strs + str(ls[i]))\n",
    "    return lsN\n",
    "\n",
    "if __name__ == '__main__':\n",
    "    print(appendStr([1, 2, 3, 4, 5, 6], \"emp\"))"
   ]
  },
  {
   "cell_type": "markdown",
   "id": "700e7e51",
   "metadata": {},
   "source": [
    "# p64"
   ]
  },
  {
   "cell_type": "code",
   "execution_count": 67,
   "id": "a16a6724",
   "metadata": {},
   "outputs": [
    {
     "name": "stdout",
     "output_type": "stream",
     "text": [
      "1 Red\n",
      "2 Green\n",
      "3 Blue\n",
      "4 Yellow\n",
      "5 Orange\n",
      "6 Purple\n",
      "None\n"
     ]
    }
   ],
   "source": [
    "def iterateList(ls1, ls2):\n",
    "    for i in range (0, len(ls1)):\n",
    "        print(ls1[i], ls2[i])\n",
    "\n",
    "if __name__ == '__main__':\n",
    "    print(iterateList([1, 2, 3, 4, 5, 6], ['Red', 'Green', 'Blue', 'Yellow', 'Orange', 'Purple']))"
   ]
  },
  {
   "cell_type": "markdown",
   "id": "7cc78448",
   "metadata": {},
   "source": [
    "# p65"
   ]
  },
  {
   "cell_type": "code",
   "execution_count": 72,
   "id": "ce54b92d",
   "metadata": {},
   "outputs": [
    {
     "name": "stdout",
     "output_type": "stream",
     "text": [
      "[1, 2, 3, 5, 8, 7, 4, 5, 6, 0, 0, 0, 0, 0]\n"
     ]
    }
   ],
   "source": [
    "def moveZeroToEnd(ls):\n",
    "    count = 0\n",
    "    lsN =  []\n",
    "    for i in range (0, len(ls)):\n",
    "        if(ls[i] == 0):\n",
    "            count = count + 1\n",
    "        else:\n",
    "            lsN.append(ls[i])\n",
    "            \n",
    "\n",
    "    for i in range (0, count):\n",
    "        lsN.append(0)\n",
    "\n",
    "    return lsN\n",
    "\n",
    "if __name__ == '__main__':\n",
    "    print(moveZeroToEnd([1, 2, 3, 0, 5, 8, 7, 0, 0,  4, 0, 5, 0, 6]))"
   ]
  },
  {
   "cell_type": "markdown",
   "id": "716ee0d6",
   "metadata": {},
   "source": [
    "# p66"
   ]
  },
  {
   "cell_type": "code",
   "execution_count": 75,
   "id": "a5936932",
   "metadata": {},
   "outputs": [
    {
     "name": "stdout",
     "output_type": "stream",
     "text": [
      "[10, 11, 12]\n"
     ]
    }
   ],
   "source": [
    "def findHighestSum(ls):\n",
    "    lsN = []\n",
    "    maxL = {}\n",
    "    maxV = 0\n",
    "    for i in range (0, len(ls)):\n",
    "        if(max(ls[i]) > maxV):\n",
    "            maxV = max(ls[i])\n",
    "            maxL = ls[i]\n",
    "        \n",
    "    return maxL\n",
    "if __name__ == '__main__':\n",
    "    print(findHighestSum([[1, 2, 3], [4, 5, 6], [10,11,12], [7,8,9] \n",
    "]))\n",
    "\n"
   ]
  },
  {
   "cell_type": "markdown",
   "id": "7b94689d",
   "metadata": {},
   "source": [
    "# p67"
   ]
  },
  {
   "cell_type": "code",
   "execution_count": 83,
   "id": "ec98401b",
   "metadata": {},
   "outputs": [
    {
     "name": "stdout",
     "output_type": "stream",
     "text": [
      "True\n"
     ]
    }
   ],
   "source": [
    "def greatestList(ls, number):\n",
    "    for i in range(0, len(ls)):\n",
    "        if (ls[i] < number) or (ls[i] == number):\n",
    "            return False\n",
    "    return True\n",
    "\n",
    "if __name__ == '__main__':\n",
    "    print(greatestList([1000, 220, 330, 442, 532], 200))"
   ]
  },
  {
   "cell_type": "markdown",
   "id": "a3b7d2e9",
   "metadata": {},
   "source": [
    "# p68"
   ]
  },
  {
   "cell_type": "code",
   "execution_count": 84,
   "id": "31aa1dc0",
   "metadata": {},
   "outputs": [
    {
     "name": "stdout",
     "output_type": "stream",
     "text": [
      "[1, 3, 5, 7, 9, 10, 2, 4, 6, 8]\n"
     ]
    }
   ],
   "source": [
    "def addList(ls1, ls2):\n",
    "    return ls1 + ls2\n",
    "\n",
    "if __name__ == '__main__':\n",
    "    print(addList([1, 3, 5, 7, 9, 10], [2, 4, 6, 8]))"
   ]
  },
  {
   "cell_type": "markdown",
   "id": "42e4f49d",
   "metadata": {},
   "source": [
    "# p69"
   ]
  },
  {
   "cell_type": "code",
   "execution_count": 86,
   "id": "4e6093f8",
   "metadata": {},
   "outputs": [],
   "source": [
    "# def removeDuplicates(ls):\n",
    "#     return set(ls)\n",
    "\n",
    "# if __name__ == '__main__':\n",
    "#     print(removeDuplicates( [[10, 20], [40], [30, 56, 25], [10, 20], [33], [40]] ))"
   ]
  },
  {
   "cell_type": "markdown",
   "id": "74bc380a",
   "metadata": {},
   "source": [
    "# p70"
   ]
  },
  {
   "cell_type": "code",
   "execution_count": 11,
   "id": "dc4b075a",
   "metadata": {},
   "outputs": [
    {
     "name": "stdout",
     "output_type": "stream",
     "text": [
      "['abu', 'alim', 'ajcd']\n",
      "['Green', 'Glob', 'Ginger']\n",
      "[]\n"
     ]
    }
   ],
   "source": [
    "def spliteData(ls, char):\n",
    "    lsN = []\n",
    "    for i in range(0, len(ls)):\n",
    "        if ls[i].find(char):\n",
    "            continue\n",
    "        else:\n",
    "            lsN.append(ls[i])\n",
    "    return lsN\n",
    "\n",
    "if __name__ == '__main__':\n",
    "    print(spliteData([\"Red\", \"Green\", \"abu\", \"Yellow\", \"alim\", \"ajcd\", \"Glob\", \"Ginger\"], \"a\"))\n",
    "    print(spliteData([\"Red\", \"Green\", \"abu\", \"Yellow\", \"alim\", \"ajcd\", \"Glob\", \"Ginger\"], \"G\"))\n",
    "    print(spliteData([\"Red\", \"Green\", \"abu\", \"Yellow\", \"alim\", \"ajcd\", \"Glob\", \"Ginger\"], \"i\"))"
   ]
  },
  {
   "cell_type": "markdown",
   "id": "589981d0",
   "metadata": {},
   "source": [
    "# p71"
   ]
  },
  {
   "cell_type": "code",
   "execution_count": 14,
   "id": "e43f15ea",
   "metadata": {},
   "outputs": [
    {
     "name": "stdout",
     "output_type": "stream",
     "text": [
      "Empty\n",
      "Not Empty\n"
     ]
    }
   ],
   "source": [
    "def spliteData(ls):\n",
    "    for i in range(0, len(ls)):\n",
    "        if len(ls[i]) != 0:\n",
    "            return \"Not Empty\"\n",
    "    return \"Empty\"\n",
    "\n",
    "if __name__ == '__main__':\n",
    "    print(spliteData([{}, {}, {}]))\n",
    "    print(spliteData([{1, 2}, {}, {}]))\n",
    "        \n",
    "    "
   ]
  },
  {
   "cell_type": "markdown",
   "id": "65482047",
   "metadata": {},
   "source": [
    "# p72"
   ]
  },
  {
   "cell_type": "code",
   "execution_count": 6,
   "id": "32389481",
   "metadata": {},
   "outputs": [
    {
     "ename": "TypeError",
     "evalue": "list indices must be integers or slices, not list",
     "output_type": "error",
     "traceback": [
      "\u001b[1;31m---------------------------------------------------------------------------\u001b[0m",
      "\u001b[1;31mTypeError\u001b[0m                                 Traceback (most recent call last)",
      "Cell \u001b[1;32mIn [6], line 12\u001b[0m\n\u001b[0;32m      9\u001b[0m     \u001b[38;5;28;01mreturn\u001b[39;00m lsN\n\u001b[0;32m     11\u001b[0m \u001b[38;5;28;01mif\u001b[39;00m \u001b[38;5;18m__name__\u001b[39m \u001b[38;5;241m==\u001b[39m \u001b[38;5;124m'\u001b[39m\u001b[38;5;124m__main__\u001b[39m\u001b[38;5;124m'\u001b[39m:\n\u001b[1;32m---> 12\u001b[0m     \u001b[38;5;28mprint\u001b[39m(\u001b[43mconvertToSingleLis\u001b[49m\u001b[43m(\u001b[49m\u001b[43m[\u001b[49m\u001b[43m[\u001b[49m\u001b[38;5;241;43m1\u001b[39;49m\u001b[43m,\u001b[49m\u001b[43m \u001b[49m\u001b[38;5;241;43m2\u001b[39;49m\u001b[43m]\u001b[49m\u001b[43m,\u001b[49m\u001b[43m \u001b[49m\u001b[43m[\u001b[49m\u001b[38;5;241;43m3\u001b[39;49m\u001b[43m,\u001b[49m\u001b[43m \u001b[49m\u001b[38;5;241;43m4\u001b[39;49m\u001b[43m]\u001b[49m\u001b[43m,\u001b[49m\u001b[43m \u001b[49m\u001b[43m[\u001b[49m\u001b[38;5;241;43m5\u001b[39;49m\u001b[43m,\u001b[49m\u001b[43m \u001b[49m\u001b[38;5;241;43m6\u001b[39;49m\u001b[43m]\u001b[49m\u001b[43m]\u001b[49m\u001b[43m)\u001b[49m)\n",
      "Cell \u001b[1;32mIn [6], line 4\u001b[0m, in \u001b[0;36mconvertToSingleLis\u001b[1;34m(ls)\u001b[0m\n\u001b[0;32m      2\u001b[0m lsN \u001b[38;5;241m=\u001b[39m []\n\u001b[0;32m      3\u001b[0m \u001b[38;5;28;01mfor\u001b[39;00m i \u001b[38;5;129;01min\u001b[39;00m \u001b[38;5;28mrange\u001b[39m(\u001b[38;5;241m0\u001b[39m, \u001b[38;5;28mlen\u001b[39m(ls)):\n\u001b[1;32m----> 4\u001b[0m     \u001b[38;5;28;01mif\u001b[39;00m \u001b[38;5;28mtype\u001b[39m(\u001b[43mls\u001b[49m\u001b[43m[\u001b[49m\u001b[43m[\u001b[49m\u001b[43mi\u001b[49m\u001b[43m]\u001b[49m\u001b[43m]\u001b[49m) \u001b[38;5;241m==\u001b[39m \u001b[38;5;28mlist\u001b[39m:\n\u001b[0;32m      5\u001b[0m         \u001b[38;5;28;01mfor\u001b[39;00m  j \u001b[38;5;129;01min\u001b[39;00m \u001b[38;5;28mrange\u001b[39m(\u001b[38;5;241m0\u001b[39m, \u001b[38;5;28mlen\u001b[39m(ls[i])):\n\u001b[0;32m      6\u001b[0m             lsN\u001b[38;5;241m.\u001b[39mappend(ls[i][j])\n",
      "\u001b[1;31mTypeError\u001b[0m: list indices must be integers or slices, not list"
     ]
    }
   ],
   "source": [
    "def convertToSingleLis(ls):\n",
    "    lsN = []\n",
    "    for i in range(0, len(ls)):\n",
    "        if type(ls[[i]]) == list:\n",
    "            for  j in range(0, len(ls[i])):\n",
    "                lsN.append(ls[i][j])\n",
    "        else:\n",
    "            lsN.append(ls[i])\n",
    "    return lsN\n",
    "\n",
    "if __name__ == '__main__':\n",
    "    print(convertToSingleLis([[1, 2], [3, 4], [5, 6]]))"
   ]
  },
  {
   "cell_type": "markdown",
   "id": "a279e05a",
   "metadata": {},
   "source": [
    "# p73"
   ]
  },
  {
   "cell_type": "code",
   "execution_count": 15,
   "id": "79903195",
   "metadata": {},
   "outputs": [
    {
     "name": "stdout",
     "output_type": "stream",
     "text": [
      "[1, 3, 4, 6, 8, 10]\n"
     ]
    }
   ],
   "source": [
    "def removeConsicutive(ls):\n",
    "    setN = set(ls)\n",
    "    return list(setN)\n",
    "\n",
    "if __name__ == '__main__':\n",
    "    print(removeConsicutive([1, 1, 3, 4, 4, 6, 8, 8, 8, 10]))"
   ]
  },
  {
   "cell_type": "markdown",
   "id": "354a5cc9",
   "metadata": {},
   "source": [
    "# p74"
   ]
  },
  {
   "cell_type": "code",
   "execution_count": 22,
   "id": "5e49616e",
   "metadata": {},
   "outputs": [],
   "source": [
    "# def removeConsicutiveList(ls):\n",
    "#     lsN = []\n",
    "#     setN = set(ls)\n",
    "#     lsS = list(setN)\n",
    "#     return list(lsS[1])\n",
    "\n",
    "# if __name__ == '__main__':\n",
    "#     print(removeConsicutiveList([1, 1, 3, 4, 4, 6, 8, 8, 8, 10]))"
   ]
  },
  {
   "cell_type": "markdown",
   "id": "abd1d3ee",
   "metadata": {},
   "source": [
    "# p75"
   ]
  },
  {
   "cell_type": "code",
   "execution_count": null,
   "id": "5a46341b",
   "metadata": {},
   "outputs": [],
   "source": []
  },
  {
   "cell_type": "markdown",
   "id": "7fd48a21",
   "metadata": {},
   "source": [
    "# p78"
   ]
  },
  {
   "cell_type": "code",
   "execution_count": 26,
   "id": "b9aa42dd",
   "metadata": {},
   "outputs": [
    {
     "name": "stdout",
     "output_type": "stream",
     "text": [
      "( [1, 2, 4] , [6, 8, 9, 5] )\n"
     ]
    }
   ],
   "source": [
    "def spliteAccordingLength(ls, ln):\n",
    "    lsN1 = []\n",
    "    lsn2 = []\n",
    "    for i in range(0, ln):\n",
    "        lsN1.append(ls[i])\n",
    "    for i in range(ln, len(ls)):\n",
    "        lsn2.append(ls[i])\n",
    "    print('(', lsN1,\",\", lsn2, ')')\n",
    "\n",
    "if __name__ == '__main__':\n",
    "    spliteAccordingLength([1, 2, 4, 6, 8, 9, 5], 3)\n"
   ]
  },
  {
   "cell_type": "markdown",
   "id": "b19988f5",
   "metadata": {},
   "source": [
    "# p79"
   ]
  },
  {
   "cell_type": "code",
   "execution_count": 28,
   "id": "73f9d81b",
   "metadata": {},
   "outputs": [
    {
     "name": "stdout",
     "output_type": "stream",
     "text": [
      "[1, 4, 6, 8, 9, 5]\n"
     ]
    }
   ],
   "source": [
    "def removekthElement(ls, kth):\n",
    "    lsN1 = []\n",
    "\n",
    "    for i in range(0, len(ls)):\n",
    "        if i != kth:\n",
    "            lsN1.append(ls[i])\n",
    "    return lsN1\n",
    "\n",
    "if __name__ == '__main__':\n",
    "    print(removekthElement([1, 2, 4, 6, 8, 9, 5], 1))\n"
   ]
  },
  {
   "cell_type": "markdown",
   "id": "e2b9ebbd",
   "metadata": {},
   "source": [
    "# p80"
   ]
  },
  {
   "cell_type": "code",
   "execution_count": 30,
   "id": "8475d665",
   "metadata": {},
   "outputs": [
    {
     "name": "stdout",
     "output_type": "stream",
     "text": [
      "[1, 12, 2, 4, 6, 8, 9, 5]\n"
     ]
    }
   ],
   "source": [
    "def removekthElement(ls, kth, value):\n",
    "    lsN1 = []\n",
    "\n",
    "    for i in range(0, len(ls)):\n",
    "        if i != kth:\n",
    "            lsN1.append(ls[i])\n",
    "        else:\n",
    "            lsN1.append(value)\n",
    "            lsN1.append(ls[i])\n",
    "\n",
    "    return lsN1\n",
    "\n",
    "if __name__ == '__main__':\n",
    "    print(removekthElement([1, 2, 4, 6, 8, 9, 5], 1, 12))\n"
   ]
  },
  {
   "cell_type": "code",
   "execution_count": null,
   "id": "74d00579",
   "metadata": {},
   "outputs": [],
   "source": []
  }
 ],
 "metadata": {
  "kernelspec": {
   "display_name": "Python 3 (ipykernel)",
   "language": "python",
   "name": "python3"
  },
  "language_info": {
   "codemirror_mode": {
    "name": "ipython",
    "version": 3
   },
   "file_extension": ".py",
   "mimetype": "text/x-python",
   "name": "python",
   "nbconvert_exporter": "python",
   "pygments_lexer": "ipython3",
   "version": "3.10.7"
  }
 },
 "nbformat": 4,
 "nbformat_minor": 5
}
