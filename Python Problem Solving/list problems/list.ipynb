{
 "cells": [
  {
   "cell_type": "markdown",
   "id": "64c8a183",
   "metadata": {},
   "source": [
    "# p1"
   ]
  },
  {
   "cell_type": "code",
   "execution_count": 2,
   "id": "ba124d66",
   "metadata": {},
   "outputs": [
    {
     "name": "stdout",
     "output_type": "stream",
     "text": [
      "15\n"
     ]
    }
   ],
   "source": [
    "def sumAll(ls):\n",
    "    summ = 0\n",
    "    for n in ls:\n",
    "        summ = summ + n;\n",
    "\n",
    "    return summ\n",
    "\n",
    "\n",
    "if __name__ == '__main__':\n",
    "\n",
    "    print(sumAll([1, 3, 5, 6]))"
   ]
  },
  {
   "cell_type": "markdown",
   "id": "1ec43e06",
   "metadata": {},
   "source": [
    "# p2"
   ]
  },
  {
   "cell_type": "code",
   "execution_count": 3,
   "id": "120fdd58",
   "metadata": {},
   "outputs": [
    {
     "name": "stdout",
     "output_type": "stream",
     "text": [
      "30\n"
     ]
    }
   ],
   "source": [
    "def mulAll(ls):\n",
    "    mul = 1\n",
    "    for n in ls:\n",
    "        mul = mul * n;\n",
    "\n",
    "    return mul\n",
    "\n",
    "\n",
    "if __name__ == '__main__':\n",
    "    print(mulAll([1, 3, 5, 2]))"
   ]
  },
  {
   "cell_type": "markdown",
   "id": "8bc1a9f9",
   "metadata": {},
   "source": [
    "# p3"
   ]
  },
  {
   "cell_type": "code",
   "execution_count": 4,
   "id": "cf7fecd1",
   "metadata": {},
   "outputs": [
    {
     "name": "stdout",
     "output_type": "stream",
     "text": [
      "5\n",
      "3\n",
      "-1\n",
      "0\n"
     ]
    }
   ],
   "source": [
    "def findLargest(ls):\n",
    "    lar = -100000000\n",
    "    for n in ls:\n",
    "        if n >= lar:\n",
    "            lar = n\n",
    "    return lar\n",
    "\n",
    "\n",
    "if __name__ == '__main__':\n",
    "    print(findLargest([1, 3, 5, 2]))\n",
    "    print(findLargest([3, 3, 3, 3]))\n",
    "    print(findLargest([-1, -3, -5, -2]))\n",
    "    print(findLargest([0, 0, 0, 0]))"
   ]
  },
  {
   "cell_type": "markdown",
   "id": "3c88862b",
   "metadata": {},
   "source": [
    "# p4"
   ]
  },
  {
   "cell_type": "code",
   "execution_count": 5,
   "id": "5efd89b1",
   "metadata": {},
   "outputs": [
    {
     "name": "stdout",
     "output_type": "stream",
     "text": [
      "1\n",
      "3\n",
      "-5\n",
      "0\n"
     ]
    }
   ],
   "source": [
    "def findSmallest(ls):\n",
    "    sml = 100000000\n",
    "    for n in ls:\n",
    "        if n <= sml:\n",
    "            sml = n\n",
    "    return sml\n",
    "\n",
    "\n",
    "if __name__ == '__main__':\n",
    "    print(findSmallest([1, 3, 5, 2]))\n",
    "    print(findSmallest([3, 3, 3, 3]))\n",
    "    print(findSmallest([-1, -3, -5, -2]))\n",
    "    print(findSmallest([0, 0, 0, 0]))"
   ]
  },
  {
   "cell_type": "markdown",
   "id": "8229aae2",
   "metadata": {},
   "source": [
    "# p5"
   ]
  },
  {
   "cell_type": "code",
   "execution_count": null,
   "id": "aa868b5f",
   "metadata": {},
   "outputs": [],
   "source": []
  },
  {
   "cell_type": "markdown",
   "id": "b55bdc22",
   "metadata": {},
   "source": [
    "# p6"
   ]
  },
  {
   "cell_type": "code",
   "execution_count": null,
   "id": "90ec9f2f",
   "metadata": {},
   "outputs": [],
   "source": []
  },
  {
   "cell_type": "markdown",
   "id": "d68e9810",
   "metadata": {},
   "source": [
    "# p7"
   ]
  },
  {
   "cell_type": "code",
   "execution_count": null,
   "id": "3cb46c0f",
   "metadata": {},
   "outputs": [],
   "source": []
  },
  {
   "cell_type": "markdown",
   "id": "46b70455",
   "metadata": {},
   "source": [
    "# p8"
   ]
  },
  {
   "cell_type": "code",
   "execution_count": 6,
   "id": "fc84daa9",
   "metadata": {},
   "outputs": [
    {
     "name": "stdout",
     "output_type": "stream",
     "text": [
      "Not Empty\n",
      "None\n",
      "Empty\n",
      "None\n"
     ]
    }
   ],
   "source": [
    "def isEmpty(ls):\n",
    "\n",
    "    if len(ls) == 0:\n",
    "        print(\"Empty\")\n",
    "    else:\n",
    "        print(\"Not Empty\")\n",
    "\n",
    "\n",
    "if __name__ == '__main__':\n",
    "    print(isEmpty([1, 3, 2, 2, 5, 6, 9, 7]))\n",
    "    print(isEmpty([]))"
   ]
  },
  {
   "cell_type": "markdown",
   "id": "f38caafc",
   "metadata": {},
   "source": [
    "# p9"
   ]
  },
  {
   "cell_type": "code",
   "execution_count": 7,
   "id": "106a837b",
   "metadata": {},
   "outputs": [
    {
     "name": "stdout",
     "output_type": "stream",
     "text": [
      "[1, 3, 2, 2, 5, 6, 9, 7]\n",
      "['abeer', 'CIT', 1, 4, '44']\n"
     ]
    }
   ],
   "source": [
    "def cloneList(ls):\n",
    "    nLs = list(ls)\n",
    "    return nLs\n",
    "\n",
    "\n",
    "if __name__ == '__main__':\n",
    "    print(cloneList([1, 3, 2, 2, 5, 6, 9, 7]))\n",
    "    print(cloneList(['abeer', 'CIT', 1, 4, '44']))"
   ]
  },
  {
   "cell_type": "markdown",
   "id": "6acf93b1",
   "metadata": {},
   "source": [
    "# p10"
   ]
  },
  {
   "cell_type": "code",
   "execution_count": 8,
   "id": "0de5cd9c",
   "metadata": {},
   "outputs": [
    {
     "name": "stdout",
     "output_type": "stream",
     "text": [
      "244\n"
     ]
    }
   ],
   "source": [
    "def sumDictonary(dic):\n",
    "    return sum(dic.values())\n",
    "\n",
    "\n",
    "if __name__ == '__main__':\n",
    "    my_dict = {'data1': 100, 'data2': -100, 'data3': 244}\n",
    "    print(sumDictonary(my_dict))"
   ]
  },
  {
   "cell_type": "markdown",
   "id": "fd5b3e6f",
   "metadata": {},
   "source": [
    "# p11"
   ]
  },
  {
   "cell_type": "code",
   "execution_count": 9,
   "id": "47c266c9",
   "metadata": {},
   "outputs": [
    {
     "name": "stdout",
     "output_type": "stream",
     "text": [
      "Both has a common element\n",
      "No common element\n"
     ]
    }
   ],
   "source": [
    "def isMatched(ls1, ls2):\n",
    "    for i in range(0, len(ls1)):\n",
    "        for j in range(0, len(ls2)):\n",
    "            if ls1[i] == ls2[j]:\n",
    "                return \"Both has a common element\"\n",
    "\n",
    "    return \"No common element\"\n",
    "\n",
    "\n",
    "if __name__ == '__main__':\n",
    "    List1 = ['Red', 'Green', 'White', 'Black', 'Pink', 'Yellow']\n",
    "    List2 = ['Red', 'Greefn', 'Wdite', 'Blasck', 'Pinfk', 'Yehllow']\n",
    "\n",
    "    List3 = ['Red', 'Green', 'White', 'Black', 'Pink', 'Yellow']\n",
    "    List4 = ['Rjed', 'Greefn', 'Whjite', 'Blasck', 'Pinfk', 'Yehllow']\n",
    "    print(isMatched(List1, List2))\n",
    "    print(isMatched(List3, List4))"
   ]
  },
  {
   "cell_type": "markdown",
   "id": "9e7e5577",
   "metadata": {},
   "source": [
    "# p12"
   ]
  },
  {
   "cell_type": "code",
   "execution_count": 10,
   "id": "535d4fa8",
   "metadata": {},
   "outputs": [
    {
     "name": "stdout",
     "output_type": "stream",
     "text": [
      "['Green', 'White', 'Black']\n"
     ]
    }
   ],
   "source": [
    "def removeSpecificElement(ls):\n",
    "    lsN = []\n",
    "    index = 0\n",
    "    for i in range(0, len(ls)):\n",
    "        if i != 0 and i != 4 and i != 5:\n",
    "            lsN.append(ls[i])\n",
    "            \n",
    "    return lsN\n",
    "\n",
    "\n",
    "if __name__ == '__main__':\n",
    "    List1 = ['Red', 'Green', 'White', 'Black', 'Pink', 'Yellow']\n",
    "    print(removeSpecificElement(List1))"
   ]
  },
  {
   "cell_type": "markdown",
   "id": "1a970943",
   "metadata": {},
   "source": [
    "# p14 "
   ]
  },
  {
   "cell_type": "code",
   "execution_count": 11,
   "id": "9e628e81",
   "metadata": {},
   "outputs": [
    {
     "name": "stdout",
     "output_type": "stream",
     "text": [
      "[1, 3, 5, 7]\n"
     ]
    }
   ],
   "source": [
    "def removeEven(ls):\n",
    "    lsN = []\n",
    "    index = 0\n",
    "    for i in range(0, len(ls)):\n",
    "        if ls[i] % 2 != 0:\n",
    "            lsN.append(ls[i])\n",
    "\n",
    "    return lsN\n",
    "\n",
    "\n",
    "if __name__ == '__main__':\n",
    "    List1 = [1, 2, 3, 4, 5, 6, 7]\n",
    "    print(removeEven(List1))"
   ]
  },
  {
   "cell_type": "markdown",
   "id": "3680f306",
   "metadata": {},
   "source": [
    "# p17"
   ]
  },
  {
   "cell_type": "code",
   "execution_count": 16,
   "id": "4bcae93c",
   "metadata": {},
   "outputs": [
    {
     "name": "stdout",
     "output_type": "stream",
     "text": [
      "[0, 6, 7, 8, 9, 10, 11, 12, 13, 14, 15, 16, 17, 18, 19]\n"
     ]
    }
   ],
   "source": [
    "def generateExceptElements(n):\n",
    "    ls =[]\n",
    "    for i in range(0, n):\n",
    "        if (i*i) <= 0 or (i*i) >= 30:\n",
    "            ls.append(i)\n",
    "    return ls\n",
    "\n",
    "\n",
    "if __name__ == '__main__':\n",
    "    print(generateExceptElements(20))\n"
   ]
  },
  {
   "cell_type": "markdown",
   "id": "81e4ad87",
   "metadata": {},
   "source": [
    "# p18"
   ]
  },
  {
   "cell_type": "code",
   "execution_count": null,
   "id": "97d5e775",
   "metadata": {},
   "outputs": [],
   "source": []
  },
  {
   "cell_type": "markdown",
   "id": "729adf0b",
   "metadata": {},
   "source": [
    "# p19"
   ]
  },
  {
   "cell_type": "code",
   "execution_count": 20,
   "id": "f92d3eec",
   "metadata": {},
   "outputs": [
    {
     "name": "stdout",
     "output_type": "stream",
     "text": [
      "['Black', 'Green', 'Pink', 'Blasck', 'Greefn', 'Pinfk']\n"
     ]
    }
   ],
   "source": [
    "def findDifference(ls1, ls2):\n",
    "    diffLs1 = list(set(ls1) - set(ls2))\n",
    "    diffLs2 = list(set(ls2) - set(ls1))\n",
    "\n",
    "    return diffLs1 + diffLs2\n",
    "\n",
    "\n",
    "if __name__ == '__main__':\n",
    "    List1 = ['Red', 'Green', 'White', 'Black', 'Pink', 'Yellow']\n",
    "    List2 = ['Red', 'Greefn', 'White', 'Blasck', 'Pinfk', 'Yellow']\n",
    "\n",
    "    print(findDifference(List1, List2))"
   ]
  },
  {
   "cell_type": "markdown",
   "id": "dc3846c8",
   "metadata": {},
   "source": [
    "# p20"
   ]
  },
  {
   "cell_type": "code",
   "execution_count": 26,
   "id": "961a1ef3",
   "metadata": {},
   "outputs": [
    {
     "name": "stdout",
     "output_type": "stream",
     "text": [
      "1 is in index 0\n",
      "3 is in index 1\n",
      "4 is in index 2\n",
      "6 is in index 3\n",
      "7 is in index 4\n",
      "11 is in index 5\n"
     ]
    }
   ],
   "source": [
    "def accessIndex(ls):\n",
    "    for i in range(0, len(ls)):\n",
    "        print(ls[i], \"is in index\", ls.index(ls[i]))\n",
    "\n",
    "\n",
    "if __name__ == '__main__':\n",
    "    accessIndex([1, 3, 4, 6, 7,11])"
   ]
  },
  {
   "cell_type": "markdown",
   "id": "dd11d6e3",
   "metadata": {},
   "source": [
    "# p21"
   ]
  },
  {
   "cell_type": "code",
   "execution_count": 28,
   "id": "cfc716f7",
   "metadata": {},
   "outputs": [
    {
     "name": "stdout",
     "output_type": "stream",
     "text": [
      "abeer\n",
      "w3scl\n"
     ]
    }
   ],
   "source": [
    "def charToString(ls):\n",
    "    str = \"\"\n",
    "    for i in range(0, len(ls)):\n",
    "        str = str + ls[i]\n",
    "    return str\n",
    "\n",
    "if __name__ == '__main__':\n",
    "    print(charToString([\"a\", \"b\", \"e\", \"e\", \"r\"]))\n",
    "    print(charToString([\"w\", \"3\", \"s\", \"c\", \"l\"]))"
   ]
  },
  {
   "cell_type": "markdown",
   "id": "5d16dced",
   "metadata": {},
   "source": [
    "# p22"
   ]
  },
  {
   "cell_type": "code",
   "execution_count": 35,
   "id": "9b990d6d",
   "metadata": {},
   "outputs": [
    {
     "name": "stdout",
     "output_type": "stream",
     "text": [
      "2\n"
     ]
    }
   ],
   "source": [
    "def getIndexByElemetValue(ls, target):\n",
    "\n",
    "    for i in range(0, len(ls)):\n",
    "        if ls[i] == target:\n",
    "            return i\n",
    "\n",
    "if __name__ == '__main__':\n",
    "    print(getIndexByElemetValue([1, 3, 4, 6, 7,11], 4))"
   ]
  },
  {
   "cell_type": "markdown",
   "id": "48220986",
   "metadata": {},
   "source": [
    "# p24"
   ]
  },
  {
   "cell_type": "code",
   "execution_count": 36,
   "id": "82b65c88",
   "metadata": {},
   "outputs": [
    {
     "name": "stdout",
     "output_type": "stream",
     "text": [
      "[1, 2, 3, 4, 5, 'Red', 'Greefn', 'White', 'Blasck', 'Pinfk', 'Yellow']\n"
     ]
    }
   ],
   "source": [
    "def appendList(ls1, ls2):\n",
    "    for i in range(0, len(ls2)):\n",
    "        ls1.append(ls2[i])\n",
    "    return ls1\n",
    "\n",
    "if __name__ == '__main__':\n",
    "    List1 = [1, 2, 3, 4, 5]\n",
    "    List2 = ['Red', 'Greefn', 'White', 'Blasck', 'Pinfk', 'Yellow']\n",
    "\n",
    "    print(appendList(List1, List2))"
   ]
  },
  {
   "cell_type": "markdown",
   "id": "5f2d694e",
   "metadata": {},
   "source": [
    "# p25"
   ]
  },
  {
   "cell_type": "code",
   "execution_count": 40,
   "id": "988d89c8",
   "metadata": {},
   "outputs": [
    {
     "name": "stdout",
     "output_type": "stream",
     "text": [
      "Yellow\n"
     ]
    }
   ],
   "source": [
    "import random\n",
    "\n",
    "\n",
    "def choiceRandom(ls):\n",
    "    return random.choice(ls)\n",
    "\n",
    "if __name__ == '__main__':\n",
    "    List2 = ['Red', 'Greefn', 'White', 'Blasck', 'Pinfk', 'Yellow']\n",
    "    print(choiceRandom(List2))"
   ]
  },
  {
   "cell_type": "markdown",
   "id": "bff57af4",
   "metadata": {},
   "source": [
    "# p27"
   ]
  },
  {
   "cell_type": "code",
   "execution_count": 43,
   "id": "b86afa5d",
   "metadata": {},
   "outputs": [
    {
     "name": "stdout",
     "output_type": "stream",
     "text": [
      "4\n"
     ]
    }
   ],
   "source": [
    "def secondSmallValue(ls):\n",
    "    min1 = min(ls)\n",
    "    i = ls.index(min1)\n",
    "    ls[i] = 10000000\n",
    "    minFinal = min(ls)\n",
    "\n",
    "    return minFinal\n",
    "\n",
    "if __name__ == '__main__':\n",
    "    print(secondSmallValue([1, 9, 4, 6, 7,11]))\n",
    "    "
   ]
  },
  {
   "cell_type": "markdown",
   "id": "0d29c84e",
   "metadata": {},
   "source": [
    "# p28"
   ]
  },
  {
   "cell_type": "code",
   "execution_count": 45,
   "id": "9bdd0200",
   "metadata": {},
   "outputs": [
    {
     "name": "stdout",
     "output_type": "stream",
     "text": [
      "7\n"
     ]
    }
   ],
   "source": [
    "def secondMaxValue(ls):\n",
    "    max1 = max(ls)\n",
    "    i = ls.index(max1)\n",
    "    ls[i] = -10000000\n",
    "    maxFinal = max(ls)\n",
    "\n",
    "    return maxFinal\n",
    "\n",
    "if __name__ == '__main__':\n",
    "    print(secondMaxValue([1, 0, 4, 6, 7,11]))"
   ]
  },
  {
   "cell_type": "markdown",
   "id": "b62a5436",
   "metadata": {},
   "source": [
    "# p29"
   ]
  },
  {
   "cell_type": "code",
   "execution_count": 49,
   "id": "51a89857",
   "metadata": {},
   "outputs": [
    {
     "name": "stdout",
     "output_type": "stream",
     "text": [
      "{0, 1, 6, 7, 8, 11, 12}\n"
     ]
    }
   ],
   "source": [
    "def getUniqueElements(ls):\n",
    "    return set(ls)\n",
    "\n",
    "if __name__ == '__main__':\n",
    "    print(getUniqueElements([1, 0, 11, 6, 7,11, 0, 12, 1, 6, 8, 7, 11]))"
   ]
  },
  {
   "cell_type": "markdown",
   "id": "bf5b7259",
   "metadata": {},
   "source": [
    "# p33"
   ]
  },
  {
   "cell_type": "code",
   "execution_count": 1,
   "id": "3ddadd2c",
   "metadata": {},
   "outputs": [
    {
     "name": "stdout",
     "output_type": "stream",
     "text": [
      "[[1, 2, 3, 4, 5], [2, 3, 4, 5], [3, 4, 5], [4, 5], [5]]\n"
     ]
    }
   ],
   "source": [
    "def generateSublist(ls):\n",
    "    sub = []\n",
    "    for i in range(0, len(ls)):\n",
    "        lsN = []\n",
    "        for j in range(i, len(ls)):\n",
    "            lsN.append(ls[j])\n",
    "        sub.append(lsN)\n",
    "    return sub\n",
    "\n",
    "if __name__ == '__main__':\n",
    "    print(generateSublist([1, 2, 3, 4, 5]))"
   ]
  },
  {
   "cell_type": "markdown",
   "id": "9469958f",
   "metadata": {},
   "source": [
    "# p38"
   ]
  },
  {
   "cell_type": "code",
   "execution_count": 5,
   "id": "6b0b393a",
   "metadata": {},
   "outputs": [
    {
     "name": "stdout",
     "output_type": "stream",
     "text": [
      "[1, 2, 4, 3, 5]\n"
     ]
    }
   ],
   "source": [
    "def swapPositions(ls, n):\n",
    "     temp = ls[n + 1]\n",
    "     ls[ n + 1] = ls[n]\n",
    "     ls[n] = temp\n",
    "     return ls\n",
    "\n",
    "if __name__ == '__main__':\n",
    "    print(swapPositions([1, 2, 3, 4, 5], 2))"
   ]
  },
  {
   "cell_type": "markdown",
   "id": "7c72d67a",
   "metadata": {},
   "source": [
    "# p39"
   ]
  },
  {
   "cell_type": "code",
   "execution_count": 9,
   "id": "85829da4",
   "metadata": {},
   "outputs": [
    {
     "name": "stdout",
     "output_type": "stream",
     "text": [
      "11223345\n"
     ]
    }
   ],
   "source": [
    "def listTOInt(ls):\n",
    "    st = \"\"\n",
    "    for i in range(0, len(ls)):\n",
    "        st = st + str(ls[i])\n",
    "    return int(st)\n",
    "\n",
    "if __name__ == '__main__':\n",
    "    print(listTOInt([11, 22, 33, 4, 5]))"
   ]
  },
  {
   "cell_type": "code",
   "execution_count": null,
   "id": "8fdcebf2",
   "metadata": {},
   "outputs": [],
   "source": []
  }
 ],
 "metadata": {
  "kernelspec": {
   "display_name": "Python 3 (ipykernel)",
   "language": "python",
   "name": "python3"
  },
  "language_info": {
   "codemirror_mode": {
    "name": "ipython",
    "version": 3
   },
   "file_extension": ".py",
   "mimetype": "text/x-python",
   "name": "python",
   "nbconvert_exporter": "python",
   "pygments_lexer": "ipython3",
   "version": "3.10.7"
  }
 },
 "nbformat": 4,
 "nbformat_minor": 5
}
