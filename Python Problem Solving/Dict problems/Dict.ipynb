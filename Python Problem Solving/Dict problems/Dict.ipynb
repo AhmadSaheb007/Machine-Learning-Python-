{
 "cells": [
  {
   "cell_type": "markdown",
   "id": "6a3d9232",
   "metadata": {},
   "source": [
    "# p01"
   ]
  },
  {
   "cell_type": "code",
   "execution_count": 4,
   "id": "bd662698",
   "metadata": {},
   "outputs": [
    {
     "name": "stdout",
     "output_type": "stream",
     "text": [
      "[('data1', 1300), ('data3', 244), ('data2', -1200)]\n"
     ]
    }
   ],
   "source": [
    "def sortDictByValues(dc):\n",
    "    return sorted(dc.items(), key=lambda x: x[1], reverse=True)\n",
    "\n",
    "\n",
    "if __name__ == '__main__':\n",
    "    my_dict1 = {'data1': 1300, 'data2': -1200, 'data3': 244}\n",
    "    print(sortDictByValues(my_dict1))"
   ]
  },
  {
   "cell_type": "markdown",
   "id": "712f8528",
   "metadata": {},
   "source": [
    "# p02"
   ]
  },
  {
   "cell_type": "code",
   "execution_count": 7,
   "id": "6cb96d9f",
   "metadata": {},
   "outputs": [
    {
     "name": "stdout",
     "output_type": "stream",
     "text": [
      "{'data1': 1300, 'data2': -1200, 'data3': 244, 'mango': 1}\n"
     ]
    }
   ],
   "source": [
    "def addNewKey(dc):\n",
    "    dc1 = {'mango': 1}\n",
    "    dc.update(dc1)\n",
    "    return dc\n",
    "\n",
    "if __name__ == '__main__':\n",
    "    my_dict1 = {'data1': 1300, 'data2': -1200, 'data3': 244}\n",
    "    print(addNewKey(my_dict1))"
   ]
  },
  {
   "cell_type": "markdown",
   "id": "61da7c23",
   "metadata": {},
   "source": [
    "# p03"
   ]
  },
  {
   "cell_type": "code",
   "execution_count": 8,
   "id": "098c87bd",
   "metadata": {},
   "outputs": [
    {
     "name": "stdout",
     "output_type": "stream",
     "text": [
      "{'data1': 1300, 'data2': -1200, 'data3': 244, 'data4': 1400, 'data5': -1100, 'data6': 344, 'data7': 1500, 'data8': -1000, 'data9': 444}\n"
     ]
    }
   ],
   "source": [
    "def addAllDict(dc1, dc2, dc3):\n",
    "    dcN = {}\n",
    "    dcN.update(dc1)\n",
    "    dcN.update(dc2)\n",
    "    dcN.update(dc3)\n",
    "    return dcN\n",
    "\n",
    "if __name__ == '__main__':\n",
    "    my_dict1 = {'data1': 1300, 'data2': -1200, 'data3': 244}\n",
    "    my_dict2 = {'data4': 1400, 'data5': -1100, 'data6': 344}\n",
    "    my_dict3 = {'data7': 1500, 'data8': -1000, 'data9': 444}\n",
    "    print(addAllDict(my_dict1, my_dict2, my_dict3))"
   ]
  },
  {
   "cell_type": "markdown",
   "id": "0c328292",
   "metadata": {},
   "source": [
    "# p04"
   ]
  },
  {
   "cell_type": "code",
   "execution_count": 10,
   "id": "29d7a093",
   "metadata": {},
   "outputs": [
    {
     "name": "stdout",
     "output_type": "stream",
     "text": [
      "The key is found\n",
      "The key is not found\n"
     ]
    }
   ],
   "source": [
    "def findKey(dic, ky):\n",
    "    if ky in dic:\n",
    "        return \"The key is found\"\n",
    "    else:\n",
    "        return \"The key is not found\"\n",
    "    \n",
    "if __name__ == '__main__':\n",
    "    my_dict1 = {'data1': 1300, 'data2': -1200, 'data3': 244}\n",
    "    print(findKey(my_dict1, 'data1'))\n",
    "    print(findKey(my_dict1, 'data4'))"
   ]
  },
  {
   "cell_type": "markdown",
   "id": "4950762e",
   "metadata": {},
   "source": [
    "# p05"
   ]
  },
  {
   "cell_type": "code",
   "execution_count": 11,
   "id": "477879fa",
   "metadata": {},
   "outputs": [
    {
     "name": "stdout",
     "output_type": "stream",
     "text": [
      "data1 1300\n",
      "data2 -1200\n",
      "data3 244\n"
     ]
    }
   ],
   "source": [
    "def iterateByLoops(dic):\n",
    "    ls1 = list(my_dict1.keys())\n",
    "    ls2 = list(my_dict1.values())\n",
    "\n",
    "    for i in range(len(ls1)):\n",
    "        print(ls1[i], ls2[i])\n",
    "\n",
    "if __name__ == '__main__':\n",
    "    my_dict1 = {'data1': 1300, 'data2': -1200, 'data3': 244}\n",
    "    iterateByLoops(my_dict1)"
   ]
  },
  {
   "cell_type": "markdown",
   "id": "c872d938",
   "metadata": {},
   "source": [
    "# p06"
   ]
  },
  {
   "cell_type": "code",
   "execution_count": 13,
   "id": "ac06a850",
   "metadata": {},
   "outputs": [
    {
     "name": "stdout",
     "output_type": "stream",
     "text": [
      "{1: 1, 2: 4, 3: 9, 4: 16, 5: 25}\n"
     ]
    }
   ],
   "source": [
    "def generateNSizeDict(n):\n",
    "    dic = {}\n",
    "    for i in range (1, n + 1):\n",
    "        temp = {i : (i*i)}\n",
    "        dic.update(temp)\n",
    "    return dic\n",
    "\n",
    "if __name__ == '__main__':\n",
    "    print(generateNSizeDict(5))"
   ]
  },
  {
   "cell_type": "markdown",
   "id": "b1a97253",
   "metadata": {},
   "source": [
    "# p07"
   ]
  },
  {
   "cell_type": "code",
   "execution_count": 1,
   "id": "f747cf6a",
   "metadata": {},
   "outputs": [
    {
     "name": "stdout",
     "output_type": "stream",
     "text": [
      "{1: 1, 2: 4, 3: 9, 4: 16, 5: 25, 6: 36, 7: 49, 8: 64, 9: 81, 10: 100, 11: 121, 12: 144, 13: 169, 14: 196, 15: 225}\n"
     ]
    }
   ],
   "source": [
    "def generateNSizeDict(n):\n",
    "    dic = {}\n",
    "    for i in range (1, n + 1):\n",
    "        temp = {i : (i*i)}\n",
    "        dic.update(temp)\n",
    "    return dic\n",
    "\n",
    "if __name__ == '__main__':\n",
    "    print(generateNSizeDict(15))"
   ]
  },
  {
   "cell_type": "markdown",
   "id": "c82c0654",
   "metadata": {},
   "source": [
    "# p08"
   ]
  },
  {
   "cell_type": "code",
   "execution_count": 3,
   "id": "e51b34f9",
   "metadata": {},
   "outputs": [
    {
     "name": "stdout",
     "output_type": "stream",
     "text": [
      "{'data1': 1300, 'data2': -1200, 'data3': 244, 'data4': 1400, 'data5': -1100, 'data6': 344}\n"
     ]
    }
   ],
   "source": [
    "def margeDict(dic1, dic2):\n",
    "    dicN = {}\n",
    "    dicN.update(dic1)\n",
    "    dicN.update(dic2)\n",
    "    return dicN\n",
    "\n",
    "if __name__ == '__main__':\n",
    "    my_dict1 = {'data1': 1300, 'data2': -1200, 'data3': 244}\n",
    "    my_dict2 = {'data4': 1400, 'data5': -1100, 'data6': 344}\n",
    "    print(margeDict(my_dict1, my_dict2))"
   ]
  },
  {
   "cell_type": "markdown",
   "id": "485e80a1",
   "metadata": {},
   "source": [
    "# p09"
   ]
  },
  {
   "cell_type": "code",
   "execution_count": 4,
   "id": "df9f2d90",
   "metadata": {},
   "outputs": [
    {
     "name": "stdout",
     "output_type": "stream",
     "text": [
      "data1 1300\n",
      "data2 -1200\n",
      "data3 244\n"
     ]
    }
   ],
   "source": [
    "def iterateByLoops(dic):\n",
    "    ls1 = list(my_dict1.keys())\n",
    "    ls2 = list(my_dict1.values())\n",
    "\n",
    "    for i in range(len(ls1)):\n",
    "        print(ls1[i], ls2[i])\n",
    "\n",
    "if __name__ == '__main__':\n",
    "    my_dict1 = {'data1': 1300, 'data2': -1200, 'data3': 244}\n",
    "    iterateByLoops(my_dict1)"
   ]
  },
  {
   "cell_type": "markdown",
   "id": "1b67170a",
   "metadata": {},
   "source": [
    "# p10"
   ]
  },
  {
   "cell_type": "code",
   "execution_count": 10,
   "id": "6d46f6c5",
   "metadata": {},
   "outputs": [
    {
     "name": "stdout",
     "output_type": "stream",
     "text": [
      "344\n"
     ]
    }
   ],
   "source": [
    "def sumAllItems(dic):\n",
    "    return sum(dic.values())\n",
    "\n",
    "if __name__ == '__main__':\n",
    "    my_dict1 = {'data1': 1300, 'data2': -1200, 'data3': 244}\n",
    "    print(sumAllItems(my_dict1))"
   ]
  },
  {
   "cell_type": "markdown",
   "id": "106beabd",
   "metadata": {},
   "source": [
    "# p11"
   ]
  },
  {
   "cell_type": "code",
   "execution_count": 12,
   "id": "62da7dda",
   "metadata": {},
   "outputs": [
    {
     "name": "stdout",
     "output_type": "stream",
     "text": [
      "-20\n"
     ]
    }
   ],
   "source": [
    "def mulAllValues(dic):\n",
    "    result = 1\n",
    "    for key in dic:\n",
    "        result = result * dic[key]\n",
    "    return result\n",
    "\n",
    "if __name__ == '__main__':\n",
    "    my_dict1 = {'data1': 10, 'data2': -1, 'data3': 2}\n",
    "    print(mulAllValues(my_dict1))"
   ]
  },
  {
   "cell_type": "markdown",
   "id": "8264cf7f",
   "metadata": {},
   "source": [
    "# p12"
   ]
  },
  {
   "cell_type": "code",
   "execution_count": 13,
   "id": "c30578e7",
   "metadata": {},
   "outputs": [
    {
     "name": "stdout",
     "output_type": "stream",
     "text": [
      "{'data1': 1300, 'data3': 244}\n"
     ]
    }
   ],
   "source": [
    "def removeKey(dic, key):\n",
    "    del dic[key]\n",
    "    return dic\n",
    "\n",
    "if __name__ == '__main__':\n",
    "    my_dict1 = {'data1': 1300, 'data2': -1200, 'data3': 244}\n",
    "    print(removeKey(my_dict1, 'data2'))\n"
   ]
  },
  {
   "cell_type": "markdown",
   "id": "2362fe6f",
   "metadata": {},
   "source": [
    "# p13"
   ]
  },
  {
   "cell_type": "code",
   "execution_count": 16,
   "id": "0f4775b7",
   "metadata": {},
   "outputs": [
    {
     "name": "stdout",
     "output_type": "stream",
     "text": [
      "{'abr': 10, 'vfr': 20, 'ytr': 30, 'wbi': 40, 'xsr': 50}\n"
     ]
    }
   ],
   "source": [
    "def mapListIntoDit(ls1, ls2):\n",
    "    dicN = {}\n",
    "    for i in range(len(ls1)):\n",
    "        temp = {ls1[i] : ls2[i]}\n",
    "        dicN.update(temp)\n",
    "    return dicN\n",
    "\n",
    "if __name__ == '__main__':\n",
    "    ls1 = ['abr', 'vfr', 'ytr', 'wbi', 'xsr']\n",
    "    ls2 = [10, 20, 30, 40, 50]\n",
    "    print(mapListIntoDit(ls1, ls2))"
   ]
  },
  {
   "cell_type": "markdown",
   "id": "e269d4c7",
   "metadata": {},
   "source": [
    "# p14"
   ]
  },
  {
   "cell_type": "code",
   "execution_count": 21,
   "id": "369be64e",
   "metadata": {},
   "outputs": [
    {
     "name": "stdout",
     "output_type": "stream",
     "text": [
      "1 -1200\n",
      "3 1300\n",
      "8 244\n",
      "None\n"
     ]
    }
   ],
   "source": [
    "def sortByKey(dic):\n",
    "    for key in sorted(dic):\n",
    "        print(key, dic[key])\n",
    "\n",
    "if __name__ == '__main__':\n",
    "    my_dict1 = { 3: 1300, 1: -1200, 8: 244}\n",
    "    print(sortByKey(my_dict1))"
   ]
  },
  {
   "cell_type": "markdown",
   "id": "595255c3",
   "metadata": {},
   "source": [
    "# p15"
   ]
  },
  {
   "cell_type": "code",
   "execution_count": 18,
   "id": "578b567a",
   "metadata": {},
   "outputs": [
    {
     "name": "stdout",
     "output_type": "stream",
     "text": [
      "-1200\n",
      "1300\n"
     ]
    }
   ],
   "source": [
    "def fetMaxMin(dic):\n",
    "     print(min(dic.values()))\n",
    "     print(max(dic.values()))\n",
    "\n",
    "if __name__ == '__main__':\n",
    "    my_dict1 = {'data1': 1300, 'data2': -1200, 'data3': 244}\n",
    "    fetMaxMin(my_dict1)"
   ]
  },
  {
   "cell_type": "markdown",
   "id": "0e2fbb51",
   "metadata": {},
   "source": [
    "# p16"
   ]
  },
  {
   "cell_type": "code",
   "execution_count": null,
   "id": "8570419e",
   "metadata": {},
   "outputs": [],
   "source": []
  },
  {
   "cell_type": "markdown",
   "id": "3a936681",
   "metadata": {},
   "source": [
    "# p17"
   ]
  },
  {
   "cell_type": "code",
   "execution_count": null,
   "id": "f478cf5f",
   "metadata": {},
   "outputs": [],
   "source": []
  },
  {
   "cell_type": "markdown",
   "id": "38e72f0b",
   "metadata": {},
   "source": [
    "# p18"
   ]
  },
  {
   "cell_type": "code",
   "execution_count": 2,
   "id": "08c1a048",
   "metadata": {},
   "outputs": [
    {
     "name": "stdout",
     "output_type": "stream",
     "text": [
      "Not Empty\n",
      "Empty\n"
     ]
    }
   ],
   "source": [
    "def isEmptyDictonary(dic):\n",
    "    if len(dic) == 0:\n",
    "        return \"Empty\"\n",
    "    else:\n",
    "        return \"Not Empty\"\n",
    "\n",
    "\n",
    "if __name__ == '__main__':\n",
    "    my_dict1 = {'data1': 1300, 'data2': -1200, 'data3': 244}\n",
    "    my_dict2 = {}\n",
    "    print(isEmptyDictonary(my_dict1))\n",
    "    print(isEmptyDictonary(my_dict2))"
   ]
  },
  {
   "cell_type": "markdown",
   "id": "13bb7bd9",
   "metadata": {},
   "source": [
    "# p19"
   ]
  },
  {
   "cell_type": "code",
   "execution_count": 3,
   "id": "ce7b6b48",
   "metadata": {},
   "outputs": [
    {
     "name": "stdout",
     "output_type": "stream",
     "text": [
      "Counter({'data1': 2600, 'data2': 2200, 'data3': 488})\n"
     ]
    }
   ],
   "source": [
    "from collections import Counter\n",
    "def margeDictonary(dic1, dic2):\n",
    "    return Counter(dic1) + Counter(dic2)\n",
    "\n",
    "\n",
    "if __name__ == '__main__':\n",
    "    my_dict1 = {'data1': 1300, 'data2': 1200, 'data3': 244}\n",
    "    my_dict2 = {'data1': 1300, 'data2': 1000, 'data3': 244}\n",
    "    print(margeDictonary(my_dict1, my_dict2))"
   ]
  },
  {
   "cell_type": "markdown",
   "id": "b38529d1",
   "metadata": {},
   "source": [
    "# p20"
   ]
  },
  {
   "cell_type": "code",
   "execution_count": 23,
   "id": "db470911",
   "metadata": {},
   "outputs": [
    {
     "name": "stdout",
     "output_type": "stream",
     "text": [
      "{1200, 1250, 1300, 244}\n"
     ]
    }
   ],
   "source": [
    "def getUniqueValues(dic):\n",
    "    return set(dic.values())\n",
    "\n",
    "if __name__ == '__main__':\n",
    "    my_dict1 = {'data1': 1300, 'data2': 1200, 'data3': 244, 'data4': 1200, 'data5': 1250,}\n",
    "    print(getUniqueValues(my_dict1))"
   ]
  },
  {
   "cell_type": "markdown",
   "id": "9b34b3ca",
   "metadata": {},
   "source": [
    "# p21"
   ]
  },
  {
   "cell_type": "code",
   "execution_count": null,
   "id": "a143f250",
   "metadata": {},
   "outputs": [],
   "source": []
  },
  {
   "cell_type": "markdown",
   "id": "413cd108",
   "metadata": {},
   "source": [
    "# p22"
   ]
  },
  {
   "cell_type": "code",
   "execution_count": 5,
   "id": "16fc529f",
   "metadata": {},
   "outputs": [
    {
     "name": "stdout",
     "output_type": "stream",
     "text": [
      "['data1', 'data5', 'data2']\n"
     ]
    }
   ],
   "source": [
    "from heapq import nlargest\n",
    "\n",
    "def getLargest3keys(dic):\n",
    "    return nlargest(3, dic, key=dic.get)\n",
    "\n",
    "if __name__ == '__main__':\n",
    "    my_dict1 = {'data1': 1300, 'data2': 1200, 'data3': 244, 'data4': 1200, 'data5': 1250}\n",
    "    print(getLargest3keys(my_dict1))"
   ]
  },
  {
   "cell_type": "markdown",
   "id": "5f278a3d",
   "metadata": {},
   "source": [
    "# p23"
   ]
  },
  {
   "cell_type": "code",
   "execution_count": null,
   "id": "8e32d65a",
   "metadata": {},
   "outputs": [],
   "source": [
    " "
   ]
  },
  {
   "cell_type": "markdown",
   "id": "6c34df29",
   "metadata": {},
   "source": [
    "# p24"
   ]
  },
  {
   "cell_type": "code",
   "execution_count": 1,
   "id": "ccb3e1f3",
   "metadata": {},
   "outputs": [
    {
     "name": "stdout",
     "output_type": "stream",
     "text": [
      "Counter({'e': 2, 'a': 1, 'b': 1, 'r': 1})\n"
     ]
    }
   ],
   "source": [
    "from collections import Counter\n",
    "def countLetter(str):\n",
    "\n",
    "    return Counter(str)\n",
    "\n",
    "\n",
    "if __name__ == '__main__':\n",
    "    print(countLetter('abeer'))"
   ]
  },
  {
   "cell_type": "markdown",
   "id": "3664c458",
   "metadata": {},
   "source": [
    "# p26"
   ]
  },
  {
   "cell_type": "code",
   "execution_count": 2,
   "id": "6e522798",
   "metadata": {},
   "outputs": [
    {
     "name": "stdout",
     "output_type": "stream",
     "text": [
      "(6, 2)\n"
     ]
    }
   ],
   "source": [
    "def accociateValus(dic):\n",
    "    s = 0\n",
    "    count = 0\n",
    "    for key in dic:\n",
    "        s = s + key['id']\n",
    "        if key['success']:\n",
    "            count = count + 1\n",
    "    return s, count\n",
    "\n",
    "if __name__ == '__main__':\n",
    "    student = [{'id': 1, 'success': True, 'name': 'Lary'},\n",
    "    {'id': 2, 'success': False, 'name': 'Rabi'},\n",
    "    {'id': 3, 'success': True, 'name': 'Alex'}]\n",
    "    print(accociateValus(student))"
   ]
  },
  {
   "cell_type": "markdown",
   "id": "1348ddc3",
   "metadata": {},
   "source": [
    "# p27"
   ]
  },
  {
   "cell_type": "code",
   "execution_count": 12,
   "id": "6cb74579",
   "metadata": {},
   "outputs": [
    {
     "name": "stdout",
     "output_type": "stream",
     "text": [
      "{10: {}, 20: {}, 30: {}, 40: {}, 50: {}}\n"
     ]
    }
   ],
   "source": [
    "def convertIntoDic(ls):\n",
    "    dicN = {}\n",
    "    temp1 = {}\n",
    "    temp2 = {}\n",
    "\n",
    "    for i in ls:\n",
    "        temp1[i] = temp2\n",
    "        temp1 = temp1[i]\n",
    "\n",
    "    dicN.update(temp1)\n",
    "    return dicN\n",
    "\n",
    "if __name__ == '__main__':\n",
    "    ls2 = [10, 20, 30, 40, 50]\n",
    "    print(convertIntoDic(ls2))\n",
    "    "
   ]
  },
  {
   "cell_type": "markdown",
   "id": "1024d7a7",
   "metadata": {},
   "source": [
    "# p28"
   ]
  },
  {
   "cell_type": "code",
   "execution_count": 36,
   "id": "7ce73c39",
   "metadata": {},
   "outputs": [
    {
     "name": "stdout",
     "output_type": "stream",
     "text": [
      "{'n1': [1, 2, 3], 'n2': [1, 2, 5], 'n3': [2, 3, 4]}\n"
     ]
    }
   ],
   "source": [
    "def sortValues(dic):\n",
    "    for key in dic:\n",
    "        dic[key] = sorted(dic[key])\n",
    "    return dic\n",
    "\n",
    "\n",
    "\n",
    "if __name__ == '__main__':\n",
    "    num = {'n1': [2, 3, 1], 'n2': [5, 1, 2], 'n3': [3, 2, 4]}\n",
    "    print(sortValues(num))"
   ]
  },
  {
   "cell_type": "markdown",
   "id": "6175f3d8",
   "metadata": {},
   "source": [
    "# p29"
   ]
  },
  {
   "cell_type": "code",
   "execution_count": 46,
   "id": "e36b3265",
   "metadata": {},
   "outputs": [
    {
     "name": "stdout",
     "output_type": "stream",
     "text": [
      "{'S001': ['Math', 'Science'], 'S002': ['Math', 'English']}\n"
     ]
    }
   ],
   "source": [
    "def removeSpace(dic):\n",
    "    dicN = dic.copy()\n",
    "    for key in dicN:\n",
    "        key1 = key.replace(' ', '')\n",
    "        dic[key1] = dic[key]\n",
    "        del dic[key]\n",
    "    return dic\n",
    "\n",
    "if __name__ == '__main__':\n",
    "    dic1 = {'S  001': ['Math', 'Science'], 'S    002': ['Math', 'English']}\n",
    "    print(removeSpace(dic1))"
   ]
  },
  {
   "cell_type": "markdown",
   "id": "31e201b3",
   "metadata": {},
   "source": [
    "# p30"
   ]
  },
  {
   "cell_type": "code",
   "execution_count": 57,
   "id": "20e0dee1",
   "metadata": {},
   "outputs": [
    {
     "ename": "AttributeError",
     "evalue": "'dict_values' object has no attribute 'index'",
     "output_type": "error",
     "traceback": [
      "\u001b[1;31m---------------------------------------------------------------------------\u001b[0m",
      "\u001b[1;31mAttributeError\u001b[0m                            Traceback (most recent call last)",
      "Cell \u001b[1;32mIn [57], line 10\u001b[0m\n\u001b[0;32m      8\u001b[0m \u001b[38;5;28;01mif\u001b[39;00m \u001b[38;5;18m__name__\u001b[39m \u001b[38;5;241m==\u001b[39m \u001b[38;5;124m'\u001b[39m\u001b[38;5;124m__main__\u001b[39m\u001b[38;5;124m'\u001b[39m:\n\u001b[0;32m      9\u001b[0m     dic_1 \u001b[38;5;241m=\u001b[39m  {\u001b[38;5;124m'\u001b[39m\u001b[38;5;124mitem1\u001b[39m\u001b[38;5;124m'\u001b[39m: \u001b[38;5;241m45.50\u001b[39m, \u001b[38;5;124m'\u001b[39m\u001b[38;5;124mitem2\u001b[39m\u001b[38;5;124m'\u001b[39m:\u001b[38;5;241m35\u001b[39m, \u001b[38;5;124m'\u001b[39m\u001b[38;5;124mitem3\u001b[39m\u001b[38;5;124m'\u001b[39m: \u001b[38;5;241m41.30\u001b[39m, \u001b[38;5;124m'\u001b[39m\u001b[38;5;124mitem4\u001b[39m\u001b[38;5;124m'\u001b[39m:\u001b[38;5;241m55\u001b[39m, \u001b[38;5;124m'\u001b[39m\u001b[38;5;124mitem5\u001b[39m\u001b[38;5;124m'\u001b[39m: \u001b[38;5;241m24\u001b[39m}\n\u001b[1;32m---> 10\u001b[0m     \u001b[43msortByValue\u001b[49m\u001b[43m(\u001b[49m\u001b[43mdic_1\u001b[49m\u001b[43m)\u001b[49m\n",
      "Cell \u001b[1;32mIn [57], line 6\u001b[0m, in \u001b[0;36msortByValue\u001b[1;34m(dic)\u001b[0m\n\u001b[0;32m      4\u001b[0m \u001b[38;5;28;01mfor\u001b[39;00m i \u001b[38;5;129;01min\u001b[39;00m \u001b[38;5;28mrange\u001b[39m(\u001b[38;5;241m0\u001b[39m, \u001b[38;5;241m2\u001b[39m):\n\u001b[0;32m      5\u001b[0m     val\u001b[38;5;241m.\u001b[39mindex(val[i])\n\u001b[1;32m----> 6\u001b[0m     \u001b[38;5;28mprint\u001b[39m(\u001b[43mdic\u001b[49m\u001b[38;5;241;43m.\u001b[39;49m\u001b[43mvalues\u001b[49m\u001b[43m(\u001b[49m\u001b[43m)\u001b[49m\u001b[38;5;241;43m.\u001b[39;49m\u001b[43mindex\u001b[49m(val[i]))\n",
      "\u001b[1;31mAttributeError\u001b[0m: 'dict_values' object has no attribute 'index'"
     ]
    }
   ],
   "source": [
    "def sortByValue(dic):\n",
    "    val = list(dic.values())\n",
    "    val.sort(reverse=True)\n",
    "    for i in range(0, 2):\n",
    "        val.index(val[i])\n",
    "        print(dic.values().index(val[i]))\n",
    "\n",
    "if __name__ == '__main__':\n",
    "    dic_1 =  {'item1': 45.50, 'item2':35, 'item3': 41.30, 'item4':55, 'item5': 24}\n",
    "    sortByValue(dic_1)\n",
    "\n"
   ]
  },
  {
   "cell_type": "markdown",
   "id": "15a1610c",
   "metadata": {},
   "source": [
    "# p31"
   ]
  },
  {
   "cell_type": "code",
   "execution_count": 59,
   "id": "7dd4ddc4",
   "metadata": {},
   "outputs": [
    {
     "name": "stdout",
     "output_type": "stream",
     "text": [
      "1 item1 45.5\n",
      "2 item2 35\n",
      "3 item3 41.3\n",
      "4 item4 55\n",
      "5 item5 24\n"
     ]
    }
   ],
   "source": [
    "def getKeyValueItem(dic):\n",
    "    count = 1;\n",
    "    for key in dic:\n",
    "        print(count, key, dic[key])\n",
    "        count += 1 \n",
    "\n",
    "if __name__ == '__main__':\n",
    "    dic_1 =  {'item1': 45.50, 'item2':35, 'item3': 41.30, 'item4':55, 'item5': 24}\n",
    "    getKeyValueItem(dic_1)"
   ]
  },
  {
   "cell_type": "markdown",
   "id": "626666cf",
   "metadata": {},
   "source": [
    "# p32"
   ]
  },
  {
   "cell_type": "code",
   "execution_count": null,
   "id": "7086bcaa",
   "metadata": {},
   "outputs": [],
   "source": []
  }
 ],
 "metadata": {
  "kernelspec": {
   "display_name": "Python 3 (ipykernel)",
   "language": "python",
   "name": "python3"
  },
  "language_info": {
   "codemirror_mode": {
    "name": "ipython",
    "version": 3
   },
   "file_extension": ".py",
   "mimetype": "text/x-python",
   "name": "python",
   "nbconvert_exporter": "python",
   "pygments_lexer": "ipython3",
   "version": "3.10.7"
  }
 },
 "nbformat": 4,
 "nbformat_minor": 5
}
