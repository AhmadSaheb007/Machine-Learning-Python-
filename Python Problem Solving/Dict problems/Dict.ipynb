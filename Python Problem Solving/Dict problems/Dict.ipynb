{
 "cells": [
  {
   "cell_type": "markdown",
   "id": "38e72f0b",
   "metadata": {},
   "source": [
    "# p18"
   ]
  },
  {
   "cell_type": "code",
   "execution_count": 2,
   "id": "08c1a048",
   "metadata": {},
   "outputs": [
    {
     "name": "stdout",
     "output_type": "stream",
     "text": [
      "Not Empty\n",
      "Empty\n"
     ]
    }
   ],
   "source": [
    "def isEmptyDictonary(dic):\n",
    "    if len(dic) == 0:\n",
    "        return \"Empty\"\n",
    "    else:\n",
    "        return \"Not Empty\"\n",
    "\n",
    "\n",
    "if __name__ == '__main__':\n",
    "    my_dict1 = {'data1': 1300, 'data2': -1200, 'data3': 244}\n",
    "    my_dict2 = {}\n",
    "    print(isEmptyDictonary(my_dict1))\n",
    "    print(isEmptyDictonary(my_dict2))"
   ]
  },
  {
   "cell_type": "markdown",
   "id": "13bb7bd9",
   "metadata": {},
   "source": [
    "# p19"
   ]
  },
  {
   "cell_type": "code",
   "execution_count": 3,
   "id": "ce7b6b48",
   "metadata": {},
   "outputs": [
    {
     "name": "stdout",
     "output_type": "stream",
     "text": [
      "Counter({'data1': 2600, 'data2': 2200, 'data3': 488})\n"
     ]
    }
   ],
   "source": [
    "from collections import Counter\n",
    "def margeDictonary(dic1, dic2):\n",
    "    return Counter(dic1) + Counter(dic2)\n",
    "\n",
    "\n",
    "if __name__ == '__main__':\n",
    "    my_dict1 = {'data1': 1300, 'data2': 1200, 'data3': 244}\n",
    "    my_dict2 = {'data1': 1300, 'data2': 1000, 'data3': 244}\n",
    "    print(margeDictonary(my_dict1, my_dict2))"
   ]
  },
  {
   "cell_type": "markdown",
   "id": "6c34df29",
   "metadata": {},
   "source": [
    "# p24"
   ]
  },
  {
   "cell_type": "code",
   "execution_count": 1,
   "id": "ccb3e1f3",
   "metadata": {},
   "outputs": [
    {
     "name": "stdout",
     "output_type": "stream",
     "text": [
      "Counter({'e': 2, 'a': 1, 'b': 1, 'r': 1})\n"
     ]
    }
   ],
   "source": [
    "from collections import Counter\n",
    "def countLetter(str):\n",
    "\n",
    "    return Counter(str)\n",
    "\n",
    "\n",
    "if __name__ == '__main__':\n",
    "    print(countLetter('abeer'))"
   ]
  },
  {
   "cell_type": "code",
   "execution_count": null,
   "id": "6e522798",
   "metadata": {},
   "outputs": [],
   "source": []
  },
  {
   "cell_type": "code",
   "execution_count": null,
   "id": "6cb74579",
   "metadata": {},
   "outputs": [],
   "source": []
  }
 ],
 "metadata": {
  "kernelspec": {
   "display_name": "Python 3 (ipykernel)",
   "language": "python",
   "name": "python3"
  },
  "language_info": {
   "codemirror_mode": {
    "name": "ipython",
    "version": 3
   },
   "file_extension": ".py",
   "mimetype": "text/x-python",
   "name": "python",
   "nbconvert_exporter": "python",
   "pygments_lexer": "ipython3",
   "version": "3.11.5"
  }
 },
 "nbformat": 4,
 "nbformat_minor": 5
}
