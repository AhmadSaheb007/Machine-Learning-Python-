{
 "cells": [
  {
   "cell_type": "markdown",
   "id": "6a3d9232",
   "metadata": {},
   "source": [
    "# p01"
   ]
  },
  {
   "cell_type": "code",
   "execution_count": 4,
   "id": "bd662698",
   "metadata": {},
   "outputs": [
    {
     "name": "stdout",
     "output_type": "stream",
     "text": [
      "[('data1', 1300), ('data3', 244), ('data2', -1200)]\n"
     ]
    }
   ],
   "source": [
    "def sortDictByValues(dc):\n",
    "    return sorted(dc.items(), key=lambda x: x[1], reverse=True)\n",
    "\n",
    "\n",
    "if __name__ == '__main__':\n",
    "    my_dict1 = {'data1': 1300, 'data2': -1200, 'data3': 244}\n",
    "    print(sortDictByValues(my_dict1))"
   ]
  },
  {
   "cell_type": "markdown",
   "id": "712f8528",
   "metadata": {},
   "source": [
    "# p02"
   ]
  },
  {
   "cell_type": "code",
   "execution_count": 7,
   "id": "6cb96d9f",
   "metadata": {},
   "outputs": [
    {
     "name": "stdout",
     "output_type": "stream",
     "text": [
      "{'data1': 1300, 'data2': -1200, 'data3': 244, 'mango': 1}\n"
     ]
    }
   ],
   "source": [
    "def addNewKey(dc):\n",
    "    dc1 = {'mango': 1}\n",
    "    dc.update(dc1)\n",
    "    return dc\n",
    "\n",
    "if __name__ == '__main__':\n",
    "    my_dict1 = {'data1': 1300, 'data2': -1200, 'data3': 244}\n",
    "    print(addNewKey(my_dict1))"
   ]
  },
  {
   "cell_type": "markdown",
   "id": "61da7c23",
   "metadata": {},
   "source": [
    "# p03"
   ]
  },
  {
   "cell_type": "code",
   "execution_count": 8,
   "id": "098c87bd",
   "metadata": {},
   "outputs": [
    {
     "name": "stdout",
     "output_type": "stream",
     "text": [
      "{'data1': 1300, 'data2': -1200, 'data3': 244, 'data4': 1400, 'data5': -1100, 'data6': 344, 'data7': 1500, 'data8': -1000, 'data9': 444}\n"
     ]
    }
   ],
   "source": [
    "def addAllDict(dc1, dc2, dc3):\n",
    "    dcN = {}\n",
    "    dcN.update(dc1)\n",
    "    dcN.update(dc2)\n",
    "    dcN.update(dc3)\n",
    "    return dcN\n",
    "\n",
    "if __name__ == '__main__':\n",
    "    my_dict1 = {'data1': 1300, 'data2': -1200, 'data3': 244}\n",
    "    my_dict2 = {'data4': 1400, 'data5': -1100, 'data6': 344}\n",
    "    my_dict3 = {'data7': 1500, 'data8': -1000, 'data9': 444}\n",
    "    print(addAllDict(my_dict1, my_dict2, my_dict3))"
   ]
  },
  {
   "cell_type": "markdown",
   "id": "0c328292",
   "metadata": {},
   "source": [
    "# p04"
   ]
  },
  {
   "cell_type": "code",
   "execution_count": 10,
   "id": "29d7a093",
   "metadata": {},
   "outputs": [
    {
     "name": "stdout",
     "output_type": "stream",
     "text": [
      "The key is found\n",
      "The key is not found\n"
     ]
    }
   ],
   "source": [
    "def findKey(dic, ky):\n",
    "    if ky in dic:\n",
    "        return \"The key is found\"\n",
    "    else:\n",
    "        return \"The key is not found\"\n",
    "    \n",
    "if __name__ == '__main__':\n",
    "    my_dict1 = {'data1': 1300, 'data2': -1200, 'data3': 244}\n",
    "    print(findKey(my_dict1, 'data1'))\n",
    "    print(findKey(my_dict1, 'data4'))"
   ]
  },
  {
   "cell_type": "markdown",
   "id": "4950762e",
   "metadata": {},
   "source": [
    "# p05"
   ]
  },
  {
   "cell_type": "code",
   "execution_count": 11,
   "id": "477879fa",
   "metadata": {},
   "outputs": [
    {
     "name": "stdout",
     "output_type": "stream",
     "text": [
      "data1 1300\n",
      "data2 -1200\n",
      "data3 244\n"
     ]
    }
   ],
   "source": [
    "def iterateByLoops(dic):\n",
    "    ls1 = list(my_dict1.keys())\n",
    "    ls2 = list(my_dict1.values())\n",
    "\n",
    "    for i in range(len(ls1)):\n",
    "        print(ls1[i], ls2[i])\n",
    "\n",
    "if __name__ == '__main__':\n",
    "    my_dict1 = {'data1': 1300, 'data2': -1200, 'data3': 244}\n",
    "    iterateByLoops(my_dict1)"
   ]
  },
  {
   "cell_type": "markdown",
   "id": "c872d938",
   "metadata": {},
   "source": [
    "# p06"
   ]
  },
  {
   "cell_type": "code",
   "execution_count": 13,
   "id": "ac06a850",
   "metadata": {},
   "outputs": [
    {
     "name": "stdout",
     "output_type": "stream",
     "text": [
      "{1: 1, 2: 4, 3: 9, 4: 16, 5: 25}\n"
     ]
    }
   ],
   "source": [
    "def generateNSizeDict(n):\n",
    "    dic = {}\n",
    "    for i in range (1, n + 1):\n",
    "        temp = {i : (i*i)}\n",
    "        dic.update(temp)\n",
    "    return dic\n",
    "\n",
    "if __name__ == '__main__':\n",
    "    print(generateNSizeDict(5))"
   ]
  },
  {
   "cell_type": "markdown",
   "id": "38e72f0b",
   "metadata": {},
   "source": [
    "# p18"
   ]
  },
  {
   "cell_type": "code",
   "execution_count": 2,
   "id": "08c1a048",
   "metadata": {},
   "outputs": [
    {
     "name": "stdout",
     "output_type": "stream",
     "text": [
      "Not Empty\n",
      "Empty\n"
     ]
    }
   ],
   "source": [
    "def isEmptyDictonary(dic):\n",
    "    if len(dic) == 0:\n",
    "        return \"Empty\"\n",
    "    else:\n",
    "        return \"Not Empty\"\n",
    "\n",
    "\n",
    "if __name__ == '__main__':\n",
    "    my_dict1 = {'data1': 1300, 'data2': -1200, 'data3': 244}\n",
    "    my_dict2 = {}\n",
    "    print(isEmptyDictonary(my_dict1))\n",
    "    print(isEmptyDictonary(my_dict2))"
   ]
  },
  {
   "cell_type": "markdown",
   "id": "13bb7bd9",
   "metadata": {},
   "source": [
    "# p19"
   ]
  },
  {
   "cell_type": "code",
   "execution_count": 3,
   "id": "ce7b6b48",
   "metadata": {},
   "outputs": [
    {
     "name": "stdout",
     "output_type": "stream",
     "text": [
      "Counter({'data1': 2600, 'data2': 2200, 'data3': 488})\n"
     ]
    }
   ],
   "source": [
    "from collections import Counter\n",
    "def margeDictonary(dic1, dic2):\n",
    "    return Counter(dic1) + Counter(dic2)\n",
    "\n",
    "\n",
    "if __name__ == '__main__':\n",
    "    my_dict1 = {'data1': 1300, 'data2': 1200, 'data3': 244}\n",
    "    my_dict2 = {'data1': 1300, 'data2': 1000, 'data3': 244}\n",
    "    print(margeDictonary(my_dict1, my_dict2))"
   ]
  },
  {
   "cell_type": "markdown",
   "id": "6c34df29",
   "metadata": {},
   "source": [
    "# p24"
   ]
  },
  {
   "cell_type": "code",
   "execution_count": 1,
   "id": "ccb3e1f3",
   "metadata": {},
   "outputs": [
    {
     "name": "stdout",
     "output_type": "stream",
     "text": [
      "Counter({'e': 2, 'a': 1, 'b': 1, 'r': 1})\n"
     ]
    }
   ],
   "source": [
    "from collections import Counter\n",
    "def countLetter(str):\n",
    "\n",
    "    return Counter(str)\n",
    "\n",
    "\n",
    "if __name__ == '__main__':\n",
    "    print(countLetter('abeer'))"
   ]
  },
  {
   "cell_type": "code",
   "execution_count": null,
   "id": "6e522798",
   "metadata": {},
   "outputs": [],
   "source": []
  },
  {
   "cell_type": "code",
   "execution_count": null,
   "id": "6cb74579",
   "metadata": {},
   "outputs": [],
   "source": []
  }
 ],
 "metadata": {
  "kernelspec": {
   "display_name": "Python 3 (ipykernel)",
   "language": "python",
   "name": "python3"
  },
  "language_info": {
   "codemirror_mode": {
    "name": "ipython",
    "version": 3
   },
   "file_extension": ".py",
   "mimetype": "text/x-python",
   "name": "python",
   "nbconvert_exporter": "python",
   "pygments_lexer": "ipython3",
   "version": "3.10.7"
  }
 },
 "nbformat": 4,
 "nbformat_minor": 5
}
